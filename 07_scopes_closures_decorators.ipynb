{
 "cells": [
  {
   "cell_type": "code",
   "execution_count": 1,
   "id": "4ab1973b",
   "metadata": {},
   "outputs": [],
   "source": [
    "def func():\n",
    "    global var\n",
    "    var = 'hi'"
   ]
  },
  {
   "cell_type": "code",
   "execution_count": 2,
   "id": "f12a153a",
   "metadata": {},
   "outputs": [
    {
     "ename": "NameError",
     "evalue": "name 'var' is not defined",
     "output_type": "error",
     "traceback": [
      "\u001b[31m---------------------------------------------------------------------------\u001b[39m",
      "\u001b[31mNameError\u001b[39m                                 Traceback (most recent call last)",
      "\u001b[36mCell\u001b[39m\u001b[36m \u001b[39m\u001b[32mIn[2]\u001b[39m\u001b[32m, line 1\u001b[39m\n\u001b[32m----> \u001b[39m\u001b[32m1\u001b[39m \u001b[43mvar\u001b[49m\n",
      "\u001b[31mNameError\u001b[39m: name 'var' is not defined"
     ]
    }
   ],
   "source": [
    "var"
   ]
  },
  {
   "cell_type": "code",
   "execution_count": 3,
   "id": "f3129187",
   "metadata": {},
   "outputs": [],
   "source": [
    "func()"
   ]
  },
  {
   "cell_type": "code",
   "execution_count": 4,
   "id": "5bf9902a",
   "metadata": {},
   "outputs": [
    {
     "data": {
      "text/plain": [
       "'hi'"
      ]
     },
     "execution_count": 4,
     "metadata": {},
     "output_type": "execute_result"
    }
   ],
   "source": [
    "var"
   ]
  },
  {
   "cell_type": "code",
   "execution_count": 5,
   "id": "4aae049a",
   "metadata": {},
   "outputs": [],
   "source": [
    "a = 10"
   ]
  },
  {
   "cell_type": "code",
   "execution_count": 6,
   "id": "11ec24e4",
   "metadata": {},
   "outputs": [],
   "source": [
    "def func3():\n",
    "    print(a)\n",
    "    a = '123'"
   ]
  },
  {
   "cell_type": "code",
   "execution_count": 7,
   "id": "2973c8d4",
   "metadata": {},
   "outputs": [
    {
     "ename": "UnboundLocalError",
     "evalue": "cannot access local variable 'a' where it is not associated with a value",
     "output_type": "error",
     "traceback": [
      "\u001b[31m---------------------------------------------------------------------------\u001b[39m",
      "\u001b[31mUnboundLocalError\u001b[39m                         Traceback (most recent call last)",
      "\u001b[36mCell\u001b[39m\u001b[36m \u001b[39m\u001b[32mIn[7]\u001b[39m\u001b[32m, line 1\u001b[39m\n\u001b[32m----> \u001b[39m\u001b[32m1\u001b[39m \u001b[43mfunc3\u001b[49m\u001b[43m(\u001b[49m\u001b[43m)\u001b[49m\n",
      "\u001b[36mCell\u001b[39m\u001b[36m \u001b[39m\u001b[32mIn[6]\u001b[39m\u001b[32m, line 2\u001b[39m, in \u001b[36mfunc3\u001b[39m\u001b[34m()\u001b[39m\n\u001b[32m      1\u001b[39m \u001b[38;5;28;01mdef\u001b[39;00m\u001b[38;5;250m \u001b[39m\u001b[34mfunc3\u001b[39m():\n\u001b[32m----> \u001b[39m\u001b[32m2\u001b[39m     \u001b[38;5;28mprint\u001b[39m(\u001b[43ma\u001b[49m)\n\u001b[32m      3\u001b[39m     a = \u001b[33m'\u001b[39m\u001b[33m123\u001b[39m\u001b[33m'\u001b[39m\n",
      "\u001b[31mUnboundLocalError\u001b[39m: cannot access local variable 'a' where it is not associated with a value"
     ]
    }
   ],
   "source": [
    "func3()"
   ]
  },
  {
   "cell_type": "code",
   "execution_count": 8,
   "id": "8956987a",
   "metadata": {},
   "outputs": [
    {
     "name": "stdout",
     "output_type": "stream",
     "text": [
      "abc\n",
      "def\n"
     ]
    }
   ],
   "source": [
    "y = 20\n",
    "def maria():\n",
    "    x = 10\n",
    "\n",
    "    def rose():\n",
    "\n",
    "        def sina():\n",
    "            nonlocal x\n",
    "            global y\n",
    "            x = 'abc'\n",
    "            y = 'def'\n",
    "        \n",
    "        sina()\n",
    "    rose()\n",
    "    print(x)\n",
    "maria()\n",
    "print(y)"
   ]
  },
  {
   "cell_type": "markdown",
   "id": "78953de6",
   "metadata": {},
   "source": [
    "## Closures"
   ]
  },
  {
   "cell_type": "code",
   "execution_count": 9,
   "id": "61b8dc07",
   "metadata": {},
   "outputs": [],
   "source": [
    "def outer():\n",
    "    x = \"python\"\n",
    "    def inner():\n",
    "        return x\n",
    "    return inner"
   ]
  },
  {
   "cell_type": "code",
   "execution_count": 10,
   "id": "c27e76f5",
   "metadata": {},
   "outputs": [],
   "source": [
    "fn = outer()"
   ]
  },
  {
   "cell_type": "code",
   "execution_count": 11,
   "id": "921cdbe1",
   "metadata": {},
   "outputs": [
    {
     "data": {
      "text/plain": [
       "('x',)"
      ]
     },
     "execution_count": 11,
     "metadata": {},
     "output_type": "execute_result"
    }
   ],
   "source": [
    "fn.__code__.co_freevars"
   ]
  },
  {
   "cell_type": "code",
   "execution_count": 12,
   "id": "3a6791c7",
   "metadata": {},
   "outputs": [
    {
     "data": {
      "text/plain": [
       "(<cell at 0x000001D488B16740: str object at 0x000001D48578C2B0>,)"
      ]
     },
     "execution_count": 12,
     "metadata": {},
     "output_type": "execute_result"
    }
   ],
   "source": [
    "fn.__closure__"
   ]
  },
  {
   "cell_type": "code",
   "execution_count": 13,
   "id": "3e04cd4d",
   "metadata": {},
   "outputs": [
    {
     "name": "stdout",
     "output_type": "stream",
     "text": [
      "0x1d488fdeb80\n"
     ]
    }
   ],
   "source": [
    "def outer():\n",
    "    x = [1, 2, 3]\n",
    "    print(hex(id(x)))\n",
    "    def inner():\n",
    "        print(hex(id(x)))\n",
    "    return inner\n",
    "fn = outer()\n"
   ]
  },
  {
   "cell_type": "code",
   "execution_count": 14,
   "id": "eed18f6a",
   "metadata": {},
   "outputs": [
    {
     "name": "stdout",
     "output_type": "stream",
     "text": [
      "0x1d488fdeb80\n"
     ]
    }
   ],
   "source": [
    "fn()"
   ]
  },
  {
   "cell_type": "code",
   "execution_count": 15,
   "id": "ad984c41",
   "metadata": {},
   "outputs": [
    {
     "data": {
      "text/plain": [
       "('x',)"
      ]
     },
     "execution_count": 15,
     "metadata": {},
     "output_type": "execute_result"
    }
   ],
   "source": [
    "fn.__code__.co_freevars"
   ]
  },
  {
   "cell_type": "code",
   "execution_count": 16,
   "id": "18f046f5",
   "metadata": {},
   "outputs": [],
   "source": [
    "def create_adders():\n",
    "    adders = []\n",
    "    for i in range(4):\n",
    "        adders.append(lambda x, y=i: x + i)\n",
    "    return adders"
   ]
  },
  {
   "cell_type": "code",
   "execution_count": null,
   "id": "32917572",
   "metadata": {},
   "outputs": [],
   "source": []
  },
  {
   "cell_type": "code",
   "execution_count": 13,
   "id": "282d2141",
   "metadata": {},
   "outputs": [],
   "source": [
    "def averager():\n",
    "    total = 0\n",
    "    count = 0\n",
    "    def add(number):\n",
    "        nonlocal total\n",
    "        nonlocal count\n",
    "        total += number\n",
    "        count += 1\n",
    "        return total / count\n",
    "    return add"
   ]
  },
  {
   "cell_type": "code",
   "execution_count": 14,
   "id": "cbf3faba",
   "metadata": {},
   "outputs": [],
   "source": [
    "a = averager()"
   ]
  },
  {
   "cell_type": "code",
   "execution_count": 16,
   "id": "9da3b4a0",
   "metadata": {},
   "outputs": [
    {
     "data": {
      "text/plain": [
       "30.0"
      ]
     },
     "execution_count": 16,
     "metadata": {},
     "output_type": "execute_result"
    }
   ],
   "source": [
    "a(20)"
   ]
  },
  {
   "cell_type": "code",
   "execution_count": 17,
   "id": "1255ee03",
   "metadata": {},
   "outputs": [],
   "source": [
    "from time import perf_counter"
   ]
  },
  {
   "cell_type": "code",
   "execution_count": 18,
   "id": "b7019cbd",
   "metadata": {},
   "outputs": [
    {
     "data": {
      "text/plain": [
       "1475452.5641454"
      ]
     },
     "execution_count": 18,
     "metadata": {},
     "output_type": "execute_result"
    }
   ],
   "source": [
    "perf_counter()"
   ]
  },
  {
   "cell_type": "code",
   "execution_count": 31,
   "id": "218d33a2",
   "metadata": {},
   "outputs": [],
   "source": [
    "def timer():\n",
    "    start = perf_counter()\n",
    "    def poll():\n",
    "        return perf_counter() - start\n",
    "    return poll"
   ]
  },
  {
   "cell_type": "code",
   "execution_count": 32,
   "id": "ba2c50f9",
   "metadata": {},
   "outputs": [],
   "source": [
    "p = timer()"
   ]
  },
  {
   "cell_type": "code",
   "execution_count": 51,
   "id": "0aee86f4",
   "metadata": {},
   "outputs": [
    {
     "data": {
      "text/plain": [
       "2064.352222000016"
      ]
     },
     "execution_count": 51,
     "metadata": {},
     "output_type": "execute_result"
    }
   ],
   "source": [
    "p()"
   ]
  },
  {
   "cell_type": "code",
   "execution_count": null,
   "id": "9f709c71",
   "metadata": {},
   "outputs": [],
   "source": [
    "def counter(initial_value=0):\n",
    "    count = initial_value\n",
    "    def inc(n=1):\n",
    "        nonlocal count\n",
    "        count += n\n",
    "        return count\n",
    "    return inc"
   ]
  },
  {
   "cell_type": "code",
   "execution_count": 41,
   "id": "e2d28d2b",
   "metadata": {},
   "outputs": [],
   "source": [
    "c = counter()"
   ]
  },
  {
   "cell_type": "code",
   "execution_count": 50,
   "id": "261ee51d",
   "metadata": {},
   "outputs": [
    {
     "data": {
      "text/plain": [
       "24"
      ]
     },
     "execution_count": 50,
     "metadata": {},
     "output_type": "execute_result"
    }
   ],
   "source": [
    "c(12)"
   ]
  },
  {
   "cell_type": "code",
   "execution_count": 18,
   "id": "01cbc412",
   "metadata": {},
   "outputs": [],
   "source": [
    "def func_counter(fn):\n",
    "    cnt = 0\n",
    "    def inner(*args, **kwargs):\n",
    "        nonlocal cnt\n",
    "        cnt += 1\n",
    "        print(f\"{fn.__name__} has been called {cnt} times\")\n",
    "        return fn(*args, **kwargs)\n",
    "    return inner"
   ]
  },
  {
   "cell_type": "code",
   "execution_count": 55,
   "id": "f93464d9",
   "metadata": {},
   "outputs": [],
   "source": [
    "def add(a, b):\n",
    "    return a + b"
   ]
  },
  {
   "cell_type": "code",
   "execution_count": 57,
   "id": "71731762",
   "metadata": {},
   "outputs": [],
   "source": [
    "f_cnt = func_counter(add)"
   ]
  },
  {
   "cell_type": "code",
   "execution_count": 67,
   "id": "989773be",
   "metadata": {},
   "outputs": [
    {
     "name": "stdout",
     "output_type": "stream",
     "text": [
      "add has been called 10 times\n"
     ]
    },
    {
     "data": {
      "text/plain": [
       "37"
      ]
     },
     "execution_count": 67,
     "metadata": {},
     "output_type": "execute_result"
    }
   ],
   "source": [
    "f_cnt(12, 25)"
   ]
  },
  {
   "cell_type": "code",
   "execution_count": 82,
   "id": "e67b3587",
   "metadata": {},
   "outputs": [],
   "source": [
    "func_counts = {}"
   ]
  },
  {
   "cell_type": "code",
   "execution_count": 83,
   "id": "2d6f11da",
   "metadata": {},
   "outputs": [],
   "source": [
    "def func_counter(fn, func_counts):\n",
    "    cnt = 0\n",
    "    def inner(*args, **kwargs):\n",
    "        nonlocal cnt\n",
    "        cnt += 1\n",
    "        func_counts[fn.__name__] = cnt\n",
    "        return fn(*args, **kwargs)\n",
    "    return inner"
   ]
  },
  {
   "cell_type": "code",
   "execution_count": 85,
   "id": "8d0a591e",
   "metadata": {},
   "outputs": [],
   "source": [
    "counted_add = func_counter(add, func_counts)"
   ]
  },
  {
   "cell_type": "code",
   "execution_count": 80,
   "id": "77984281",
   "metadata": {},
   "outputs": [
    {
     "data": {
      "text/plain": [
       "3"
      ]
     },
     "execution_count": 80,
     "metadata": {},
     "output_type": "execute_result"
    }
   ],
   "source": [
    "counted_add(1, 2)"
   ]
  },
  {
   "cell_type": "code",
   "execution_count": 81,
   "id": "3e78e9b7",
   "metadata": {},
   "outputs": [
    {
     "data": {
      "text/plain": [
       "{'add': 2}"
      ]
     },
     "execution_count": 81,
     "metadata": {},
     "output_type": "execute_result"
    }
   ],
   "source": [
    "func_counts"
   ]
  },
  {
   "cell_type": "code",
   "execution_count": 113,
   "id": "986ffc52",
   "metadata": {},
   "outputs": [],
   "source": [
    "def factorialer():\n",
    "    cache = {}\n",
    "    def inner(n):\n",
    "        return 1 if n < 2 else cache.get(n) or (n * inner(n - 1))\n",
    "    return inner"
   ]
  },
  {
   "cell_type": "code",
   "execution_count": 110,
   "id": "33698920",
   "metadata": {},
   "outputs": [],
   "source": [
    "def factorialer():\n",
    "    cache = {}\n",
    "    def inner(n):\n",
    "        if n < 2:\n",
    "            return 1\n",
    "        if n in cache:\n",
    "            return cache[n]\n",
    "        return n * inner(n - 1)\n",
    "    return inner"
   ]
  },
  {
   "cell_type": "code",
   "execution_count": 114,
   "id": "8deb8ebc",
   "metadata": {},
   "outputs": [],
   "source": [
    "fact = factorialer()"
   ]
  },
  {
   "cell_type": "code",
   "execution_count": 116,
   "id": "1648be56",
   "metadata": {},
   "outputs": [
    {
     "data": {
      "text/plain": [
       "51090942171709440000"
      ]
     },
     "execution_count": 116,
     "metadata": {},
     "output_type": "execute_result"
    }
   ],
   "source": [
    "fact(21)"
   ]
  },
  {
   "cell_type": "markdown",
   "id": "7d3e157d",
   "metadata": {},
   "source": [
    "## Decorators"
   ]
  },
  {
   "cell_type": "code",
   "execution_count": 19,
   "id": "c4ce7a25",
   "metadata": {},
   "outputs": [],
   "source": [
    "@func_counter\n",
    "def mult(a, b):\n",
    "    return a * b"
   ]
  },
  {
   "cell_type": "code",
   "execution_count": 25,
   "id": "344eb52a",
   "metadata": {},
   "outputs": [
    {
     "name": "stdout",
     "output_type": "stream",
     "text": [
      "mult has been called 6 times\n"
     ]
    },
    {
     "data": {
      "text/plain": [
       "12"
      ]
     },
     "execution_count": 25,
     "metadata": {},
     "output_type": "execute_result"
    }
   ],
   "source": [
    "mult(2, 6)"
   ]
  },
  {
   "cell_type": "code",
   "execution_count": 26,
   "id": "d036faeb",
   "metadata": {},
   "outputs": [
    {
     "data": {
      "text/plain": [
       "'inner'"
      ]
     },
     "execution_count": 26,
     "metadata": {},
     "output_type": "execute_result"
    }
   ],
   "source": [
    "mult.__name__"
   ]
  },
  {
   "cell_type": "code",
   "execution_count": 27,
   "id": "4f4ba868",
   "metadata": {},
   "outputs": [],
   "source": [
    "from functools import wraps"
   ]
  },
  {
   "cell_type": "code",
   "execution_count": 28,
   "id": "5546b295",
   "metadata": {},
   "outputs": [],
   "source": [
    "def func_counter(fn):\n",
    "    cnt = 0\n",
    "    @wraps(fn)\n",
    "    def inner(*args, **kwargs):\n",
    "        nonlocal cnt\n",
    "        cnt += 1\n",
    "        print(f\"{fn.__name__} has been called {cnt} times\")\n",
    "        return fn(*args, **kwargs)\n",
    "    return inner"
   ]
  },
  {
   "cell_type": "code",
   "execution_count": 29,
   "id": "4b1bffb8",
   "metadata": {},
   "outputs": [],
   "source": [
    "@func_counter\n",
    "def mult(a, b):\n",
    "    return a * b"
   ]
  },
  {
   "cell_type": "code",
   "execution_count": 30,
   "id": "efd19b9c",
   "metadata": {},
   "outputs": [
    {
     "data": {
      "text/plain": [
       "'mult'"
      ]
     },
     "execution_count": 30,
     "metadata": {},
     "output_type": "execute_result"
    }
   ],
   "source": [
    "mult.__name__"
   ]
  },
  {
   "cell_type": "markdown",
   "id": "041126ea",
   "metadata": {},
   "source": [
    "#### Decorator exercises"
   ]
  },
  {
   "cell_type": "markdown",
   "id": "f61f6e30",
   "metadata": {},
   "source": [
    "Write a decorator @enforce_types(int, int) that ensures the first two arguments passed to a function are of type int, or raises a TypeError."
   ]
  },
  {
   "cell_type": "code",
   "execution_count": 34,
   "id": "5283e60d",
   "metadata": {},
   "outputs": [],
   "source": [
    "def enforce_types(fn, a, b):\n",
    "    @wraps(fn)\n",
    "    def inner(*args, **kwargs):\n",
    "        if not (args and len(args) >= 2 and type(args[0]) == a and type(args[1]) == b):\n",
    "            raise TypeError(f'First 2 arguments need to be of type {a} and {b}')\n",
    "        return fn(*args, **kwargs)\n",
    "    return inner"
   ]
  },
  {
   "cell_type": "code",
   "execution_count": 35,
   "id": "c73564e1",
   "metadata": {},
   "outputs": [
    {
     "ename": "TypeError",
     "evalue": "enforce_types() missing 1 required positional argument: 'b'",
     "output_type": "error",
     "traceback": [
      "\u001b[31m---------------------------------------------------------------------------\u001b[39m",
      "\u001b[31mTypeError\u001b[39m                                 Traceback (most recent call last)",
      "\u001b[36mCell\u001b[39m\u001b[36m \u001b[39m\u001b[32mIn[35]\u001b[39m\u001b[32m, line 1\u001b[39m\n\u001b[32m----> \u001b[39m\u001b[32m1\u001b[39m \u001b[38;5;129m@enforce_types\u001b[39m\u001b[43m(\u001b[49m\u001b[38;5;28;43mint\u001b[39;49m\u001b[43m,\u001b[49m\u001b[43m \u001b[49m\u001b[38;5;28;43mint\u001b[39;49m\u001b[43m)\u001b[49m\n\u001b[32m      2\u001b[39m \u001b[38;5;28;01mdef\u001b[39;00m\u001b[38;5;250m \u001b[39m\u001b[34madd\u001b[39m(a, b):\n\u001b[32m      3\u001b[39m     \u001b[38;5;28;01mreturn\u001b[39;00m a + b\n",
      "\u001b[31mTypeError\u001b[39m: enforce_types() missing 1 required positional argument: 'b'"
     ]
    }
   ],
   "source": [
    "@enforce_types(int, int)\n",
    "def add(a, b):\n",
    "    return a + b"
   ]
  },
  {
   "cell_type": "markdown",
   "id": "6fea0300",
   "metadata": {},
   "source": [
    "A decorator that allows a function to run only once. Subsequent calls return the result of the first call."
   ]
  },
  {
   "cell_type": "code",
   "execution_count": null,
   "id": "a39e072a",
   "metadata": {},
   "outputs": [],
   "source": [
    "def run_once(fn):\n",
    "    has_ran = False\n",
    "    result = None\n",
    "\n",
    "    @wraps(fn)\n",
    "    def inner(*args, **kwargs):\n",
    "        nonlocal result, has_ran\n",
    "        if not has_ran:\n",
    "            result = fn(*args, **kwargs)\n",
    "            has_ran = True\n",
    "        return result\n",
    "    return inner\n"
   ]
  },
  {
   "cell_type": "code",
   "execution_count": 39,
   "id": "a349242f",
   "metadata": {},
   "outputs": [],
   "source": [
    "@run_once\n",
    "def sq(a):\n",
    "    return a ** 2"
   ]
  },
  {
   "cell_type": "code",
   "execution_count": 43,
   "id": "96ced741",
   "metadata": {},
   "outputs": [
    {
     "data": {
      "text/plain": [
       "4"
      ]
     },
     "execution_count": 43,
     "metadata": {},
     "output_type": "execute_result"
    }
   ],
   "source": [
    "sq(6)"
   ]
  },
  {
   "cell_type": "markdown",
   "id": "b8d7c2ed",
   "metadata": {},
   "source": [
    "Write a decorator that caches the result of a function for a given input (memoization), like @cache."
   ]
  },
  {
   "cell_type": "code",
   "execution_count": 85,
   "id": "d815ecb1",
   "metadata": {},
   "outputs": [],
   "source": [
    "def cache(fn):\n",
    "    cache_dict = {}\n",
    "\n",
    "    @wraps(fn)\n",
    "    def inner(*args, **kwargs):\n",
    "        if (x := (frozenset(args), frozenset(kwargs.keys()), frozenset(kwargs.values()))) in cache_dict:\n",
    "            return cache_dict[x]\n",
    "        result = fn(*args, **kwargs)\n",
    "        cache_dict[(frozenset(args), frozenset(kwargs.keys()), frozenset(kwargs.values()))] = result\n",
    "        print(cache_dict)\n",
    "        return result\n",
    "    \n",
    "    return inner\n"
   ]
  },
  {
   "cell_type": "code",
   "execution_count": 86,
   "id": "8dc8afa8",
   "metadata": {},
   "outputs": [],
   "source": [
    "@cache\n",
    "def divstringer(a, b, s=''):\n",
    "    return s + str(a // b)"
   ]
  },
  {
   "cell_type": "code",
   "execution_count": 88,
   "id": "b1434e94",
   "metadata": {},
   "outputs": [
    {
     "name": "stdout",
     "output_type": "stream",
     "text": [
      "{(frozenset({2, 111}), frozenset({'s'}), frozenset({'abc'})): 'abc55', (frozenset({22, 111}), frozenset({'s'}), frozenset({'asbc'})): 'asbc5'}\n"
     ]
    },
    {
     "data": {
      "text/plain": [
       "'asbc5'"
      ]
     },
     "execution_count": 88,
     "metadata": {},
     "output_type": "execute_result"
    }
   ],
   "source": [
    "divstringer(111, 22, s='asbc')"
   ]
  },
  {
   "cell_type": "code",
   "execution_count": 91,
   "id": "e00908ba",
   "metadata": {},
   "outputs": [],
   "source": [
    "def timed(fn):\n",
    "    from time import perf_counter\n",
    "    from functools import wraps\n",
    "\n",
    "    @wraps(fn)\n",
    "    def inner(*args, **kwargs):\n",
    "        start = perf_counter()\n",
    "        result = fn(*args, **kwargs)\n",
    "        end = perf_counter()\n",
    "        elapsed = end - start\n",
    "\n",
    "        args_ = [str(a) for a in args]\n",
    "        kwargs_ = [f'{k}={v}' for k, v in kwargs.items()]\n",
    "        all_args = args_ + kwargs_\n",
    "        args_str = ', '.join(all_args)\n",
    "\n",
    "        print(f'{fn.__name__}({args_str}) took {elapsed:.6f}s to run')\n",
    "        \n",
    "        return result\n",
    "    \n",
    "    return inner"
   ]
  },
  {
   "cell_type": "code",
   "execution_count": 97,
   "id": "dec7a0d8",
   "metadata": {},
   "outputs": [],
   "source": [
    "def fib(n):\n",
    "    if n <= 2: \n",
    "        return 1\n",
    "    return fib(n - 1) + fib(n - 2)"
   ]
  },
  {
   "cell_type": "code",
   "execution_count": 99,
   "id": "3e06a3fb",
   "metadata": {},
   "outputs": [],
   "source": [
    "@timed\n",
    "def recursive_fib(n):\n",
    "    return fib(n)"
   ]
  },
  {
   "cell_type": "code",
   "execution_count": 107,
   "id": "232c5643",
   "metadata": {},
   "outputs": [
    {
     "name": "stdout",
     "output_type": "stream",
     "text": [
      "recursive_fib(40) took 10.928761s to run\n"
     ]
    },
    {
     "data": {
      "text/plain": [
       "102334155"
      ]
     },
     "execution_count": 107,
     "metadata": {},
     "output_type": "execute_result"
    }
   ],
   "source": [
    "recursive_fib(40)"
   ]
  },
  {
   "cell_type": "code",
   "execution_count": 122,
   "id": "3ed966f0",
   "metadata": {},
   "outputs": [],
   "source": [
    "@timed\n",
    "def loop_fib(n):\n",
    "    fib_1 = 1\n",
    "    fib_2 = 1\n",
    "    for i in range(n-2):\n",
    "        fib_1, fib_2 = fib_2, fib_1 + fib_2\n",
    "    return fib_2\n"
   ]
  },
  {
   "cell_type": "code",
   "execution_count": 123,
   "id": "d9552007",
   "metadata": {},
   "outputs": [
    {
     "name": "stdout",
     "output_type": "stream",
     "text": [
      "loop_fib(40) took 0.000004s to run\n"
     ]
    },
    {
     "data": {
      "text/plain": [
       "102334155"
      ]
     },
     "execution_count": 123,
     "metadata": {},
     "output_type": "execute_result"
    }
   ],
   "source": [
    "loop_fib(40)"
   ]
  },
  {
   "cell_type": "code",
   "execution_count": 8,
   "id": "bac73938",
   "metadata": {},
   "outputs": [],
   "source": [
    "from functools import reduce"
   ]
  },
  {
   "cell_type": "code",
   "execution_count": 138,
   "id": "b32183b0",
   "metadata": {},
   "outputs": [],
   "source": [
    "@timed\n",
    "def reduce_fib(n):\n",
    "    return reduce(lambda x, y: (x[1], x[0] + x[1]), range(n - 1), (0, 1))[1]"
   ]
  },
  {
   "cell_type": "code",
   "execution_count": 141,
   "id": "e8edeef6",
   "metadata": {},
   "outputs": [
    {
     "name": "stdout",
     "output_type": "stream",
     "text": [
      "reduce_fib(40) took 0.000008s to run\n"
     ]
    },
    {
     "data": {
      "text/plain": [
       "102334155"
      ]
     },
     "execution_count": 141,
     "metadata": {},
     "output_type": "execute_result"
    }
   ],
   "source": [
    "reduce_fib(40)"
   ]
  },
  {
   "cell_type": "code",
   "execution_count": null,
   "id": "cc95cae7",
   "metadata": {},
   "outputs": [],
   "source": [
    "def avg_timed(fn, n):\n",
    "    from time import perf_counter\n",
    "    from functools import wraps\n",
    "\n",
    "    @wraps(fn)\n",
    "    def inner(*args, **kwargs):\n",
    "        total = 0\n",
    "        count = 0\n",
    "        for i in range(n):\n",
    "            start = perf_counter()\n",
    "            result = fn(*args, **kwargs)\n",
    "            end = perf_counter()\n",
    "            elapsed = end - start\n",
    "            total += elapsed\n",
    "            count += 1\n",
    "\n",
    "        args_ = [str(a) for a in args]\n",
    "        kwargs_ = [f'{k}={v}' for k, v in kwargs.items()]\n",
    "        all_args = args_ + kwargs_\n",
    "        args_str = ', '.join(all_args)\n",
    "\n",
    "        print(f'{fn.__name__}({args_str}) took {total / count :.6f}s to run')\n",
    "\n",
    "        return result\n",
    "    \n",
    "    return inner"
   ]
  },
  {
   "cell_type": "code",
   "execution_count": null,
   "id": "91261091",
   "metadata": {},
   "outputs": [],
   "source": [
    "@avg_timed(15)\n",
    "def recursive_fib(n):\n",
    "    return fib(n)"
   ]
  },
  {
   "cell_type": "code",
   "execution_count": 155,
   "id": "9cce7cf6",
   "metadata": {},
   "outputs": [
    {
     "name": "stdout",
     "output_type": "stream",
     "text": [
      "recursive_fib(32) took 0.239005s to run\n"
     ]
    },
    {
     "data": {
      "text/plain": [
       "2178309"
      ]
     },
     "execution_count": 155,
     "metadata": {},
     "output_type": "execute_result"
    }
   ],
   "source": [
    "recursive_fib(32)"
   ]
  },
  {
   "cell_type": "code",
   "execution_count": null,
   "id": "f6af987e",
   "metadata": {},
   "outputs": [],
   "source": []
  },
  {
   "cell_type": "code",
   "execution_count": 2,
   "id": "ba839313",
   "metadata": {},
   "outputs": [],
   "source": [
    "def logged(fn):\n",
    "    from functools import wraps\n",
    "    from datetime import datetime\n",
    "\n",
    "    @wraps(fn)\n",
    "    def inner(*args, **kwargs):\n",
    "        run_dt = datetime.now()\n",
    "        result = fn(*args, **kwargs)\n",
    "        print(f'{run_dt}: called {fn.__name__}')\n",
    "        return result\n",
    "    \n",
    "    return inner"
   ]
  },
  {
   "cell_type": "code",
   "execution_count": 5,
   "id": "504085da",
   "metadata": {},
   "outputs": [],
   "source": [
    "@logged\n",
    "def func1():\n",
    "    pass"
   ]
  },
  {
   "cell_type": "code",
   "execution_count": 6,
   "id": "0e51667d",
   "metadata": {},
   "outputs": [
    {
     "name": "stdout",
     "output_type": "stream",
     "text": [
      "2025-06-24 13:00:26.365636: called func1\n"
     ]
    }
   ],
   "source": [
    "func1()"
   ]
  },
  {
   "cell_type": "code",
   "execution_count": 7,
   "id": "68f6e588",
   "metadata": {},
   "outputs": [],
   "source": [
    "def timed(fn):\n",
    "    from time import perf_counter\n",
    "    from functools import wraps\n",
    "\n",
    "    @wraps(fn)\n",
    "    def inner(*args, **kwargs):\n",
    "        start = perf_counter()\n",
    "        result = fn(*args, **kwargs)\n",
    "        end = perf_counter()\n",
    "        elapsed = end - start\n",
    "\n",
    "        args_ = [str(a) for a in args]\n",
    "        kwargs_ = [f'{k}={v}' for k, v in kwargs.items()]\n",
    "        all_args = args_ + kwargs_\n",
    "        args_str = ', '.join(all_args)\n",
    "\n",
    "        print(f'{fn.__name__}({args_str}) took {elapsed:.6f}s to run')\n",
    "        \n",
    "        return result\n",
    "    \n",
    "    return inner"
   ]
  },
  {
   "cell_type": "code",
   "execution_count": 26,
   "id": "183b691f",
   "metadata": {},
   "outputs": [],
   "source": [
    "@logged\n",
    "@timed\n",
    "def fact(n):\n",
    "    return reduce(lambda x, y: x * y, range(1, n+1))"
   ]
  },
  {
   "cell_type": "code",
   "execution_count": 27,
   "id": "8b853a3e",
   "metadata": {},
   "outputs": [
    {
     "name": "stdout",
     "output_type": "stream",
     "text": [
      "fact(1500) took 0.000588s to run\n",
      "2025-06-24 13:05:30.800586: called fact\n"
     ]
    },
    {
     "data": {
      "text/plain": [
       "48119977967797748601669900935813797818348080406726138081308559411630575189001095591292230585206733851868464009619343585194052091124618166270271481881393331431627962810299844149333789044689395510487167879769325303699470467829234399263326545652860748605075746366928323606645492277541120083438086727369377887676000211405318480244354207419604864176969950581435222198851194568984095705945549589054568321792338919149442985919957734792959402499096845643020401869381175603964424333222114125974374817804242633309769804293952870034619354125014210045647664063240162007560108665290568646128342557147350985358724154623253371867470765120422073867963935775258692109753041762094343569050497470353531764481503174750911858230906998361066084787758316110585736013365377431860738572261325738233656835271947352695180865573043834027955539012765489372645042504406597752357481931532872356635411224578334040522294746402829585458478708778346379431862368824819009177091444034885941394319343910223168655869761799669075059527608502465593181398566214786801211651657222004123456498258513120359126022843038535083709796101565934859483203933443308601475813108363074118562404412420191947127585482919172173045961122122701434297870691932154082986945954748251105782181586397275820342101470457300633590139512919549474113721711616912519714191760699935509810254849967087635936181176363954224186031346682928878492872249485456690138831610135377916327940503701400290125509132140782614640495733518048670983360134097860364762638658894873174499870133559364805443430831459505987809215393353387232078177562975021460595422358573128085417162336030235138652735438053034531962620811566019896879275257163988352090874930346115518331202927263708446729394381879888839549731876978682249320628599631628662375508826209854754631984276392670919216923002770077734756077549035942976209159416211581439461484509549370357486770276807687544580164314647595031368948490282897173328013518435758700056425922638411889496527975846052717958044813737086806600171993703579485864029383208714528950303253881360812631162134750100307772634337467012820470715650810714689905121432259528505483053930402217400686061612471659630192434864094539828085677465383026128353771071152304197549798870706139893609140045659756285435787771636258253666592102151236142132724425850991205720020493660580896600891888594659612927724357866265934517615841298789154462249169688860092640284756382431746120357767933119589280468687348061788072986362788582227019465263474828590646048451070702923434422714349595857654843699542321849363652767771978314681013589442955219879702008068934096624650625769705233333462826013860098698155180331145365652453482955497979915586438474687345677874451117702250441711504844638414485210092261397271970571029038581873069951161330495772310508760528249706514238384269808639507080418298318311361373628512041716415196868334254119137139589149597210032153545941114666530498906529240798164804007394775927836045668573993316428972539932745757171947402454257142633700815922407278403640595355142075599446056337986717212316223257763412164180899532722039383244462511410346646148863397237096276822656157561194665545757017429842404840309758925618650507921043007241637877939825811059339138925526124514467627126548126795078784022672860886251974581362141782786407402896309678008909663263987018538107050886193489012497405005820727271232733728141775132722013860591169620692789290456794698409808557447756701311883266010859016027592252397754508251628808293537776536569608111330584797160694847898923196743970244451842702266403326317319092117151143971679500042590269255093130215984418097418435474300467281949798227102529873732749027992079700287275900856241172902880909546551703263202853584498085358955307673717177961902081098618729046348849060249600000000000000000000000000000000000000000000000000000000000000000000000000000000000000000000000000000000000000000000000000000000000000000000000000000000000000000000000000000000000000000000000000000000000000000000000000000000000000000000000000000000000000000000000000000000000000000000000000000000000000000000000000000000000000000000000000000000000000000000000000000000000000"
      ]
     },
     "execution_count": 27,
     "metadata": {},
     "output_type": "execute_result"
    }
   ],
   "source": [
    "fact(1500)"
   ]
  },
  {
   "cell_type": "code",
   "execution_count": null,
   "id": "7aa358e1",
   "metadata": {},
   "outputs": [],
   "source": [
    "def fib(n):\n",
    "    print(f'calculating {n}')\n",
    "    return 1 if n <= 2 else fib(n - 1) + fib(n - 2)"
   ]
  },
  {
   "cell_type": "code",
   "execution_count": 44,
   "id": "e17499df",
   "metadata": {},
   "outputs": [],
   "source": [
    "class Fib:\n",
    "    def __init__(self):\n",
    "        self.cache = {1: 1, 2: 1}\n",
    "\n",
    "    def __call__(self, n):\n",
    "        if n in self.cache:\n",
    "            return self.cache[n]\n",
    "        self.cache[n] = (res := self(n - 1) + self(n - 2))\n",
    "        return res"
   ]
  },
  {
   "cell_type": "code",
   "execution_count": 45,
   "id": "ae7a521b",
   "metadata": {},
   "outputs": [],
   "source": [
    "f = Fib()"
   ]
  },
  {
   "cell_type": "code",
   "execution_count": 46,
   "id": "aee8409d",
   "metadata": {},
   "outputs": [
    {
     "data": {
      "text/plain": [
       "781774079430987230203437"
      ]
     },
     "execution_count": 46,
     "metadata": {},
     "output_type": "execute_result"
    }
   ],
   "source": [
    "f(116)"
   ]
  },
  {
   "cell_type": "code",
   "execution_count": 51,
   "id": "b0cd5651",
   "metadata": {},
   "outputs": [],
   "source": [
    "def fibber(cache={1: 1, 2: 1}):\n",
    "    \n",
    "    def inner(n):\n",
    "        if n not in cache:\n",
    "            cache[n] = inner(n - 1) + inner(n - 2)\n",
    "        return cache[n]\n",
    "    \n",
    "    return inner\n"
   ]
  },
  {
   "cell_type": "code",
   "execution_count": 52,
   "id": "8d7d50b9",
   "metadata": {},
   "outputs": [],
   "source": [
    "f2 = fibber()"
   ]
  },
  {
   "cell_type": "code",
   "execution_count": 53,
   "id": "20d78bf8",
   "metadata": {},
   "outputs": [
    {
     "data": {
      "text/plain": [
       "781774079430987230203437"
      ]
     },
     "execution_count": 53,
     "metadata": {},
     "output_type": "execute_result"
    }
   ],
   "source": [
    "f2(116)"
   ]
  },
  {
   "cell_type": "code",
   "execution_count": 54,
   "id": "0f24a375",
   "metadata": {},
   "outputs": [],
   "source": [
    "def memoize_single_arg(fn):\n",
    "    cache = dict()\n",
    "\n",
    "    def inner(x):\n",
    "        if x not in cache:\n",
    "            cache[x] = fn(x)\n",
    "        return cache[x]\n",
    "\n",
    "    return inner"
   ]
  },
  {
   "cell_type": "code",
   "execution_count": null,
   "id": "17d9b7d9",
   "metadata": {},
   "outputs": [],
   "source": [
    "def memoize_no_kwargs(fn):\n",
    "    cache = dict()\n",
    "\n",
    "    def inner(*args):\n",
    "        if x:=tuple(args) not in cache:\n",
    "            cache[x] = fn(x)\n",
    "        return cache[x]\n",
    "\n",
    "    return inner"
   ]
  },
  {
   "cell_type": "code",
   "execution_count": null,
   "id": "5626a122",
   "metadata": {},
   "outputs": [],
   "source": [
    "@memoize_single_arg\n",
    "def fib(n):\n",
    "    print(f'calculating {n}')\n",
    "    return 1 if n <= 2 else fib(n - 1) + fib(n - 2)"
   ]
  },
  {
   "cell_type": "code",
   "execution_count": 61,
   "id": "26ccf52f",
   "metadata": {},
   "outputs": [
    {
     "data": {
      "text/plain": [
       "22002056689466296922983322104048463"
      ]
     },
     "execution_count": 61,
     "metadata": {},
     "output_type": "execute_result"
    }
   ],
   "source": [
    "fib(166)"
   ]
  },
  {
   "cell_type": "code",
   "execution_count": null,
   "id": "e41b9356",
   "metadata": {},
   "outputs": [],
   "source": [
    "from functools import lru_cache"
   ]
  },
  {
   "cell_type": "code",
   "execution_count": 72,
   "id": "a53a9c6f",
   "metadata": {},
   "outputs": [],
   "source": [
    "@lru_cache(maxsize=8)\n",
    "def fib(n):\n",
    "    print(f'calculating {n}')\n",
    "    return 1 if n <= 2 else fib(n - 1) + fib(n - 2)"
   ]
  },
  {
   "cell_type": "code",
   "execution_count": 79,
   "id": "ebfd91f4",
   "metadata": {},
   "outputs": [
    {
     "name": "stdout",
     "output_type": "stream",
     "text": [
      "calculating 10\n",
      "calculating 9\n",
      "calculating 8\n",
      "calculating 7\n",
      "calculating 6\n"
     ]
    },
    {
     "data": {
      "text/plain": [
       "55"
      ]
     },
     "execution_count": 79,
     "metadata": {},
     "output_type": "execute_result"
    }
   ],
   "source": [
    "fib(10)"
   ]
  },
  {
   "cell_type": "code",
   "execution_count": 12,
   "id": "94ef2468",
   "metadata": {},
   "outputs": [],
   "source": [
    "def avg_timed(n):\n",
    "    def dec(fn):\n",
    "        from time import perf_counter\n",
    "        from functools import wraps\n",
    "\n",
    "        @wraps(fn)\n",
    "        def inner(*args, **kwargs):\n",
    "            total = 0\n",
    "            for i in range(n):\n",
    "                start = perf_counter()\n",
    "                result = fn(*args, **kwargs)\n",
    "                end = perf_counter()\n",
    "                elapsed = end - start\n",
    "                total += elapsed\n",
    "\n",
    "            args_ = [str(a) for a in args]\n",
    "            kwargs_ = [f'{k}={v}' for k, v in kwargs.items()]\n",
    "            all_args = args_ + kwargs_\n",
    "            args_str = ', '.join(all_args)\n",
    "\n",
    "            print(f'{fn.__name__}({args_str}) took {total / n :.6f}s to run')\n",
    "\n",
    "            return result\n",
    "        \n",
    "        return inner\n",
    "    return dec"
   ]
  },
  {
   "cell_type": "code",
   "execution_count": 13,
   "id": "9251a7ed",
   "metadata": {},
   "outputs": [],
   "source": [
    "def fib(n):\n",
    "    return 1 if n <= 2 else fib(n - 1) + fib(n - 2)"
   ]
  },
  {
   "cell_type": "code",
   "execution_count": 9,
   "id": "717a0875",
   "metadata": {},
   "outputs": [],
   "source": [
    "@avg_timed(15)\n",
    "def recursive_fib(n):\n",
    "    return fib(n)"
   ]
  },
  {
   "cell_type": "code",
   "execution_count": 11,
   "id": "edb9e123",
   "metadata": {},
   "outputs": [
    {
     "name": "stdout",
     "output_type": "stream",
     "text": [
      "recursive_fib(32) took 0.320029s to run\n"
     ]
    },
    {
     "data": {
      "text/plain": [
       "2178309"
      ]
     },
     "execution_count": 11,
     "metadata": {},
     "output_type": "execute_result"
    }
   ],
   "source": [
    "recursive_fib(32)"
   ]
  },
  {
   "cell_type": "code",
   "execution_count": 23,
   "id": "1ef1ac94",
   "metadata": {},
   "outputs": [],
   "source": [
    "class AvgTimed:\n",
    "    def __init__(self, n):\n",
    "        self.n = n\n",
    "\n",
    "    def __call__(self, fn):\n",
    "        from time import perf_counter\n",
    "        from functools import wraps\n",
    "        \n",
    "        @wraps(fn)\n",
    "        def inner(*args, **kwargs):\n",
    "            total = 0\n",
    "            for i in range(self.n):\n",
    "                start = perf_counter()\n",
    "                result = fn(*args, **kwargs)\n",
    "                end = perf_counter()\n",
    "                elapsed = end - start\n",
    "                total += elapsed\n",
    "\n",
    "            args_ = [str(a) for a in args]\n",
    "            kwargs_ = [f'{k}={v}' for k, v in kwargs.items()]\n",
    "            all_args = args_ + kwargs_\n",
    "            args_str = ', '.join(all_args)\n",
    "\n",
    "            print(f'{fn.__name__}({args_str}) took {total / self.n :.6f}s to run')\n",
    "\n",
    "            return result\n",
    "        \n",
    "        return inner\n",
    "        \n",
    "        "
   ]
  },
  {
   "cell_type": "code",
   "execution_count": 25,
   "id": "3798f803",
   "metadata": {},
   "outputs": [],
   "source": [
    "@AvgTimed(15)\n",
    "def recursive_fib(n):\n",
    "    return fib(n)"
   ]
  },
  {
   "cell_type": "code",
   "execution_count": 26,
   "id": "d4c98eaa",
   "metadata": {},
   "outputs": [
    {
     "name": "stdout",
     "output_type": "stream",
     "text": [
      "recursive_fib(30) took 0.125212s to run\n"
     ]
    },
    {
     "data": {
      "text/plain": [
       "832040"
      ]
     },
     "execution_count": 26,
     "metadata": {},
     "output_type": "execute_result"
    }
   ],
   "source": [
    "recursive_fib(30)"
   ]
  },
  {
   "cell_type": "code",
   "execution_count": 27,
   "id": "1cd1797e",
   "metadata": {},
   "outputs": [],
   "source": [
    "from fractions import Fraction"
   ]
  },
  {
   "cell_type": "code",
   "execution_count": 32,
   "id": "90cd0286",
   "metadata": {},
   "outputs": [],
   "source": [
    "f = Fraction(2, 3)"
   ]
  },
  {
   "cell_type": "code",
   "execution_count": 39,
   "id": "26b1114f",
   "metadata": {},
   "outputs": [],
   "source": [
    "def dec_speak(cls):\n",
    "    cls.speak = lambda self, message: f\"message: {message}\""
   ]
  },
  {
   "cell_type": "code",
   "execution_count": 41,
   "id": "8dd26b21",
   "metadata": {},
   "outputs": [],
   "source": [
    "dec_speak(Fraction)"
   ]
  },
  {
   "cell_type": "code",
   "execution_count": 42,
   "id": "da92704f",
   "metadata": {},
   "outputs": [
    {
     "data": {
      "text/plain": [
       "'message: ori mesamedisgan salami'"
      ]
     },
     "execution_count": 42,
     "metadata": {},
     "output_type": "execute_result"
    }
   ],
   "source": [
    "f.speak('ori mesamedisgan salami')"
   ]
  },
  {
   "cell_type": "code",
   "execution_count": 13,
   "id": "18bd4063",
   "metadata": {},
   "outputs": [],
   "source": [
    "from datetime import datetime, timezone"
   ]
  },
  {
   "cell_type": "code",
   "execution_count": 6,
   "id": "44b8d25a",
   "metadata": {},
   "outputs": [],
   "source": [
    "def info(obj):\n",
    "        result = []\n",
    "        result.append(f\"time: {datetime.now(timezone.utc)}\")\n",
    "        result.append(f\"class: {obj.__class__.__name__}\")\n",
    "        result.append(f\"id: {hex(id(obj))}\")\n",
    "        for k, v in vars(obj).items():\n",
    "            result.append(f\"{k}: {v}\")\n",
    "        return result"
   ]
  },
  {
   "cell_type": "code",
   "execution_count": 7,
   "id": "6444f5d1",
   "metadata": {},
   "outputs": [],
   "source": [
    "def dec_debug(cls):\n",
    "    cls.debug = info\n",
    "    return cls"
   ]
  },
  {
   "cell_type": "code",
   "execution_count": 54,
   "id": "dc89bcb6",
   "metadata": {},
   "outputs": [],
   "source": [
    "@dec_debug\n",
    "class Person:\n",
    "    def __init__(self, name, birth_year):\n",
    "        self.name = name\n",
    "        self.birth_year = birth_year\n",
    "\n",
    "    def say_hi():\n",
    "        print('hi')"
   ]
  },
  {
   "cell_type": "code",
   "execution_count": 55,
   "id": "cbe40b66",
   "metadata": {},
   "outputs": [],
   "source": [
    "p = Person('nika', 2001)"
   ]
  },
  {
   "cell_type": "code",
   "execution_count": 60,
   "id": "546fc65e",
   "metadata": {},
   "outputs": [
    {
     "data": {
      "text/plain": [
       "['time: 2025-06-29 08:16:33.455765+00:00',\n",
       " 'class: Person',\n",
       " 'id: 0x24a21363d10',\n",
       " 'name: nika',\n",
       " 'birth_year: 2001']"
      ]
     },
     "execution_count": 60,
     "metadata": {},
     "output_type": "execute_result"
    }
   ],
   "source": [
    "p.debug()"
   ]
  },
  {
   "cell_type": "code",
   "execution_count": 8,
   "id": "d44d8c77",
   "metadata": {},
   "outputs": [],
   "source": [
    "@dec_debug\n",
    "class Automobile:\n",
    "    def __init__(self, make, model, year, top_speed):\n",
    "        self.make = make\n",
    "        self.model = model\n",
    "        self. year = year\n",
    "        self.top_speed = top_speed\n",
    "        self._speed = 0\n",
    "\n",
    "    @property\n",
    "    def speed(self):\n",
    "        return self._speed\n",
    "    \n",
    "    @speed.setter\n",
    "    def speed(self, value):\n",
    "        if value <= self.top_speed:\n",
    "            self._speed = value\n",
    "        else:\n",
    "            raise ValueError('Speed can not exceed top speed.')"
   ]
  },
  {
   "cell_type": "code",
   "execution_count": 9,
   "id": "b5072b41",
   "metadata": {},
   "outputs": [],
   "source": [
    "my_car = Automobile('Nissan', 'Rogue Sport', 2017, 220)"
   ]
  },
  {
   "cell_type": "code",
   "execution_count": 16,
   "id": "946e12f3",
   "metadata": {},
   "outputs": [],
   "source": [
    "my_car.speed = 200"
   ]
  },
  {
   "cell_type": "code",
   "execution_count": 17,
   "id": "a4f2b95a",
   "metadata": {},
   "outputs": [
    {
     "data": {
      "text/plain": [
       "['time: 2025-06-29 09:03:32.338565+00:00',\n",
       " 'class: Automobile',\n",
       " 'id: 0x19e525cb450',\n",
       " 'make: Nissan',\n",
       " 'model: Rogue Sport',\n",
       " 'year: 2017',\n",
       " 'top_speed: 220',\n",
       " '_speed: 200']"
      ]
     },
     "execution_count": 17,
     "metadata": {},
     "output_type": "execute_result"
    }
   ],
   "source": [
    "my_car.debug()"
   ]
  },
  {
   "cell_type": "code",
   "execution_count": 18,
   "id": "4ecfb1fb",
   "metadata": {},
   "outputs": [],
   "source": [
    "from math import sqrt"
   ]
  },
  {
   "cell_type": "code",
   "execution_count": null,
   "id": "fab447b2",
   "metadata": {},
   "outputs": [],
   "source": [
    "def with_lt_eq(obj):\n",
    "    if '__lt__' in dir(obj) and '__eq__' in dir(obj):\n",
    "        obj.__ne__ = lambda self, other: not self == other\n",
    "        obj.__le__ = lambda self, other: self < other or self == other\n",
    "        obj.__ge__ = lambda self, other: not self < other\n",
    "        obj.__gt__ = lambda self, other: not self <= other\n",
    "    return obj"
   ]
  },
  {
   "cell_type": "code",
   "execution_count": 33,
   "id": "2db7a314",
   "metadata": {},
   "outputs": [],
   "source": [
    "@with_lt_eq\n",
    "class Point:\n",
    "    def __init__(self, x, y):\n",
    "        self.x = x\n",
    "        self.y = y\n",
    "    \n",
    "    def __abs__(self):\n",
    "        return sqrt(self.x ** 2 + self.y ** 2)\n",
    "    \n",
    "    def __eq__(self, other):\n",
    "        if isinstance(other, Point):\n",
    "            return self.x == other.x and self.y == other.y\n",
    "        else:\n",
    "            False\n",
    "\n",
    "    def __lt__(self, other):\n",
    "        if isinstance(other, Point):\n",
    "            return abs(self) < abs(other)\n",
    "        else:\n",
    "            return NotImplementedError"
   ]
  },
  {
   "cell_type": "code",
   "execution_count": 34,
   "id": "983b01eb",
   "metadata": {},
   "outputs": [],
   "source": [
    "p1, p2 = Point(1, 1), Point(2, 2)"
   ]
  },
  {
   "cell_type": "code",
   "execution_count": null,
   "id": "7c1b7ef6",
   "metadata": {},
   "outputs": [
    {
     "data": {
      "text/plain": [
       "True"
      ]
     },
     "execution_count": 35,
     "metadata": {},
     "output_type": "execute_result"
    },
    {
     "ename": "",
     "evalue": "",
     "output_type": "error",
     "traceback": [
      "\u001b[1;31mThe Kernel crashed while executing code in the current cell or a previous cell. \n",
      "\u001b[1;31mPlease review the code in the cell(s) to identify a possible cause of the failure. \n",
      "\u001b[1;31mClick <a href='https://aka.ms/vscodeJupyterKernelCrash'>here</a> for more info. \n",
      "\u001b[1;31mView Jupyter <a href='command:jupyter.viewOutput'>log</a> for further details."
     ]
    }
   ],
   "source": [
    "p1 != p2"
   ]
  },
  {
   "cell_type": "code",
   "execution_count": null,
   "id": "da10f1e3",
   "metadata": {},
   "outputs": [],
   "source": [
    "from functools import total_ordering"
   ]
  },
  {
   "cell_type": "markdown",
   "id": "1b473005",
   "metadata": {},
   "source": [
    "### Single dispatch generic functions"
   ]
  },
  {
   "cell_type": "code",
   "execution_count": 1,
   "id": "d7b3b279",
   "metadata": {},
   "outputs": [],
   "source": [
    "from html import escape\n",
    "from decimal import Decimal"
   ]
  },
  {
   "cell_type": "code",
   "execution_count": 3,
   "id": "24d75be8",
   "metadata": {},
   "outputs": [],
   "source": [
    "def html_escape(arg):\n",
    "    return escape(str(arg))\n",
    "\n",
    "def html_int(a):\n",
    "    return f\"{a}(<i>{str(hex(a))}</i>)\"\n",
    "\n",
    "def html_real(r):\n",
    "    return f\"{a:.2f}\"\n",
    "\n",
    "def html_str(s):\n",
    "    return s.replace('\\n', '<br/>\\n')\n",
    "\n",
    "def html_list(l):\n",
    "    items = (f\"<li>{html_escape(item)}</li>\" for item in l)\n",
    "    return '<ul>\\n' + '\\n'.join(items) + '\\n</ul>'\n",
    "\n",
    "def html_dict(d):\n",
    "    items = (f\"<li>{k}={v}</li>\" for k, v in d.items())\n",
    "    return '<ul>\\n' + '\\n'.join(items) + '\\n</ul>'"
   ]
  },
  {
   "cell_type": "code",
   "execution_count": null,
   "id": "611d2d95",
   "metadata": {},
   "outputs": [],
   "source": [
    "def htmlize(arg): \n",
    "    registry = {\n",
    "        object: html_escape,\n",
    "        int: html_int,\n",
    "        float: html_int,\n",
    "        Decimal: html_int,\n",
    "        str: html_str,\n",
    "        list: html_list,\n",
    "        tuple: html_list,\n",
    "        dict: html_dict,\n",
    "    }\n",
    "\n",
    "    fn = registry.get(type(arg), registry[object])\n",
    "    \n",
    "    return fn"
   ]
  },
  {
   "cell_type": "code",
   "execution_count": 3,
   "id": "6d61d280",
   "metadata": {},
   "outputs": [],
   "source": [
    "def single_dispatch(fn):\n",
    "    registry = {}\n",
    "\n",
    "    registry[object] = fn\n",
    "    def inner(arg):\n",
    "        return registry[object](arg)\n",
    "    \n",
    "    return inner"
   ]
  },
  {
   "cell_type": "code",
   "execution_count": 4,
   "id": "bda8650d",
   "metadata": {},
   "outputs": [],
   "source": [
    "@single_dispatch\n",
    "def html_escape(arg):\n",
    "    return escape(str(arg))"
   ]
  },
  {
   "cell_type": "code",
   "execution_count": 12,
   "id": "2733357e",
   "metadata": {},
   "outputs": [],
   "source": [
    "def single_dispatch(fn):\n",
    "    registry = {}\n",
    "    registry[object] = fn\n",
    "\n",
    "    def dec(arg):\n",
    "        return registry.get(type(arg), registry[object])(arg)\n",
    "\n",
    "    def register(type_):\n",
    "\n",
    "        def inner(fn):\n",
    "            registry[type_] = fn\n",
    "            return fn\n",
    "        return inner\n",
    "    \n",
    "    dec.register = register\n",
    "    dec.registry = registry\n",
    "\n",
    "    return dec"
   ]
  },
  {
   "cell_type": "code",
   "execution_count": 13,
   "id": "dc867732",
   "metadata": {},
   "outputs": [],
   "source": [
    "@single_dispatch\n",
    "def htmlize(a):\n",
    "    return escape(str(a))\n"
   ]
  },
  {
   "cell_type": "code",
   "execution_count": 15,
   "id": "412d6eaf",
   "metadata": {},
   "outputs": [
    {
     "data": {
      "text/plain": [
       "{object: <function __main__.htmlize(a)>}"
      ]
     },
     "execution_count": 15,
     "metadata": {},
     "output_type": "execute_result"
    }
   ],
   "source": [
    "htmlize.registry"
   ]
  },
  {
   "cell_type": "code",
   "execution_count": 16,
   "id": "86199c98",
   "metadata": {},
   "outputs": [],
   "source": [
    "\n",
    "@htmlize.register(int)\n",
    "def html_int(a):\n",
    "    return f\"{a}(<i>{str(hex(a))}</i>)\"\n",
    "\n",
    "@htmlize.register(float)\n",
    "@htmlize.register(Decimal)\n",
    "def html_real(r):\n",
    "    return f\"{a:.2f}\"\n",
    "\n",
    "@htmlize.register(str)\n",
    "def html_str(s):\n",
    "    return s.replace('\\n', '<br/>\\n')\n",
    "\n",
    "@htmlize.register(list)\n",
    "@htmlize.register(set)\n",
    "@htmlize.register(tuple)\n",
    "def html_sequence(l):\n",
    "    items = (f\"<li>{html_escape(item)}</li>\" for item in l)\n",
    "    return '<ul>\\n' + '\\n'.join(items) + '\\n</ul>'\n",
    "\n",
    "@htmlize.register(dict)\n",
    "def html_dict(d):\n",
    "    items = (f\"<li>{k}={v}</li>\" for k, v in d.items())\n",
    "    return '<ul>\\n' + '\\n'.join(items) + '\\n</ul>'"
   ]
  },
  {
   "cell_type": "code",
   "execution_count": 17,
   "id": "75f26406",
   "metadata": {},
   "outputs": [
    {
     "data": {
      "text/plain": [
       "{object: <function __main__.htmlize(a)>,\n",
       " int: <function __main__.html_int(a)>,\n",
       " decimal.Decimal: <function __main__.html_real(r)>,\n",
       " float: <function __main__.html_real(r)>,\n",
       " str: <function __main__.html_str(s)>,\n",
       " tuple: <function __main__.html_sequence(l)>,\n",
       " set: <function __main__.html_sequence(l)>,\n",
       " list: <function __main__.html_sequence(l)>,\n",
       " dict: <function __main__.html_dict(d)>}"
      ]
     },
     "execution_count": 17,
     "metadata": {},
     "output_type": "execute_result"
    }
   ],
   "source": [
    "htmlize.registry"
   ]
  },
  {
   "cell_type": "code",
   "execution_count": 10,
   "id": "6a960889",
   "metadata": {},
   "outputs": [
    {
     "data": {
      "text/plain": [
       "'5(<i>0x5</i>)'"
      ]
     },
     "execution_count": 10,
     "metadata": {},
     "output_type": "execute_result"
    }
   ],
   "source": [
    "htmlize(5)"
   ]
  },
  {
   "cell_type": "code",
   "execution_count": 11,
   "id": "9423d88d",
   "metadata": {},
   "outputs": [
    {
     "data": {
      "text/plain": [
       "'<ul>\\n<li>1</li>\\n<li>2</li>\\n<li>3</li>\\n</ul>'"
      ]
     },
     "execution_count": 11,
     "metadata": {},
     "output_type": "execute_result"
    }
   ],
   "source": [
    "htmlize([1, 2, 3])"
   ]
  },
  {
   "cell_type": "code",
   "execution_count": 31,
   "id": "fcaa0a80",
   "metadata": {},
   "outputs": [],
   "source": [
    "class SingleDispatch:\n",
    "    def __init__(self, fn):\n",
    "        self._registry = {}\n",
    "        self._registry[object] = fn\n",
    "    \n",
    "    def __call__(self, arg):\n",
    "        return self._registry.get(type(arg), self._registry[object])(arg)\n",
    "    \n",
    "    def register(self, type_):\n",
    "        def inner(fn):\n",
    "            self._registry[type_] = fn\n",
    "            return fn\n",
    "        return inner"
   ]
  },
  {
   "cell_type": "code",
   "execution_count": 32,
   "id": "315be33c",
   "metadata": {},
   "outputs": [],
   "source": [
    "@SingleDispatch\n",
    "def htmlize(a):\n",
    "    return escape(str(a))\n"
   ]
  },
  {
   "cell_type": "code",
   "execution_count": 33,
   "id": "dbe923de",
   "metadata": {},
   "outputs": [],
   "source": [
    "@htmlize.register(int)\n",
    "def html_int(a):\n",
    "    return f\"{a}(<i>{str(hex(a))}</i>)\"\n",
    "\n",
    "@htmlize.register(float)\n",
    "@htmlize.register(Decimal)\n",
    "def html_real(r):\n",
    "    return f\"{a:.2f}\"\n",
    "\n",
    "@htmlize.register(str)\n",
    "def html_str(s):\n",
    "    return s.replace('\\n', '<br/>\\n')\n",
    "\n",
    "@htmlize.register(list)\n",
    "@htmlize.register(set)\n",
    "@htmlize.register(tuple)\n",
    "def html_sequence(l):\n",
    "    items = (f\"<li>{html_escape(item)}</li>\" for item in l)\n",
    "    return '<ul>\\n' + '\\n'.join(items) + '\\n</ul>'\n",
    "\n",
    "@htmlize.register(dict)\n",
    "def html_dict(d):\n",
    "    items = (f\"<li>{k}={v}</li>\" for k, v in d.items())\n",
    "    return '<ul>\\n' + '\\n'.join(items) + '\\n</ul>'"
   ]
  },
  {
   "cell_type": "code",
   "execution_count": null,
   "id": "2a2c8cfb",
   "metadata": {},
   "outputs": [],
   "source": [
    "from functools import singledispatch"
   ]
  },
  {
   "cell_type": "markdown",
   "id": "4b5219fe",
   "metadata": {},
   "source": [
    "### Exercises"
   ]
  },
  {
   "cell_type": "markdown",
   "id": "f86f9b63",
   "metadata": {},
   "source": [
    "✅ Easy                \n",
    "Write a decorator `@logger` that prints \"Calling function...\" before calling the function and \"Function called.\" after.\n",
    "\n",
    "🔄 Medium       \n",
    "Write a decorator `@timer` that times how long a function takes to execute and prints it.\n",
    "\n",
    "Stack `@logger` and `@timer` on a function and observe the order of output.\n"
   ]
  },
  {
   "cell_type": "code",
   "execution_count": 54,
   "id": "0cab43d0",
   "metadata": {},
   "outputs": [],
   "source": [
    "def logger(fn):\n",
    "    from functools import wraps\n",
    "\n",
    "    @wraps(fn)\n",
    "    def inner(*args, **kwargs):\n",
    "        print(f\"Starting {fn.__name__}\")\n",
    "        res = fn(*args, **kwargs)\n",
    "        print(f\"{fn.__name__} ended.\")\n",
    "        return res\n",
    "    \n",
    "    return inner"
   ]
  },
  {
   "cell_type": "code",
   "execution_count": 55,
   "id": "43d2965a",
   "metadata": {},
   "outputs": [],
   "source": [
    "def timer(fn):\n",
    "    from time import perf_counter\n",
    "    from functools import wraps\n",
    "\n",
    "    @wraps(fn)\n",
    "    def inner(*args, **kwargs):\n",
    "        start = perf_counter()\n",
    "        res = fn(*args, **kwargs)\n",
    "        print(f\"{fn.__name__} took {perf_counter() - start}s\")\n",
    "        return res\n",
    "    \n",
    "    return inner"
   ]
  },
  {
   "cell_type": "code",
   "execution_count": 72,
   "id": "29d45749",
   "metadata": {},
   "outputs": [],
   "source": [
    "from time import sleep\n",
    "\n",
    "@timer\n",
    "@logger\n",
    "def sleeper(t: int):\n",
    "    sleep(t)"
   ]
  },
  {
   "cell_type": "code",
   "execution_count": 59,
   "id": "002d324c",
   "metadata": {},
   "outputs": [
    {
     "name": "stdout",
     "output_type": "stream",
     "text": [
      "Starting sleeper\n",
      "sleeper ended.\n",
      "sleeper took 1.0019509000121616s\n"
     ]
    }
   ],
   "source": [
    "sleeper(1)"
   ]
  },
  {
   "cell_type": "markdown",
   "id": "d2e84956",
   "metadata": {},
   "source": [
    "Write `@authorize(role=\"admin\")` that allows function execution only if `user.role == \"admin\"` (assume a user object is globally accessible)."
   ]
  },
  {
   "cell_type": "code",
   "execution_count": 93,
   "id": "981b5108",
   "metadata": {},
   "outputs": [],
   "source": [
    "user = 'admin'"
   ]
  },
  {
   "cell_type": "code",
   "execution_count": 89,
   "id": "f2e7f7fe",
   "metadata": {},
   "outputs": [],
   "source": [
    "def authorize(role='user'):\n",
    "\n",
    "    def dec(fn):\n",
    "        from functools import wraps\n",
    "\n",
    "        @wraps(fn)\n",
    "        def inner(*args, **kwargs):\n",
    "            global user\n",
    "            if user == role:\n",
    "                return fn(*args, **kwargs)\n",
    "            else:\n",
    "                raise PermissionError('admin role required for that function')\n",
    "        \n",
    "        return inner\n",
    "    return dec"
   ]
  },
  {
   "cell_type": "code",
   "execution_count": 90,
   "id": "6367e99a",
   "metadata": {},
   "outputs": [],
   "source": [
    "@authorize(role='admin')\n",
    "def sleeper(t):\n",
    "    sleep(t)"
   ]
  },
  {
   "cell_type": "code",
   "execution_count": 94,
   "id": "72759844",
   "metadata": {},
   "outputs": [],
   "source": [
    "sleeper(1)"
   ]
  },
  {
   "cell_type": "markdown",
   "id": "ccc74468",
   "metadata": {},
   "source": [
    "Write a decorator `@singleton` that makes sure only one instance of the class is ever created."
   ]
  },
  {
   "cell_type": "code",
   "execution_count": 96,
   "id": "647b195a",
   "metadata": {},
   "outputs": [],
   "source": [
    "def singleton(obj):\n",
    "    instance = None\n",
    "\n",
    "    def get_instance(*args, **kwargs):\n",
    "        nonlocal instance\n",
    "        if not instance:\n",
    "            instance = obj(*args, **kwargs)\n",
    "        return instance\n",
    "    \n",
    "    return get_instance\n"
   ]
  },
  {
   "cell_type": "markdown",
   "id": "0175b7e2",
   "metadata": {},
   "source": [
    "Implement a decorator to handle exceptions with a default value"
   ]
  },
  {
   "cell_type": "code",
   "execution_count": 14,
   "id": "df5a88bf",
   "metadata": {},
   "outputs": [],
   "source": [
    "def default_value_on_exception(val):\n",
    "\n",
    "    def dec(fn):\n",
    "        from functools import wraps\n",
    "\n",
    "        @wraps(fn)\n",
    "        def inner(*args, **kwargs):\n",
    "            try:\n",
    "                return fn(*args, **kwargs)\n",
    "            except Exception:\n",
    "                return val\n",
    "            \n",
    "        return inner\n",
    "    return dec"
   ]
  },
  {
   "cell_type": "code",
   "execution_count": 15,
   "id": "c19cb830",
   "metadata": {},
   "outputs": [],
   "source": [
    "@default_value_on_exception(15)\n",
    "def errorer(a, b, c):\n",
    "    print(a, b, c)\n",
    "    raise Exception"
   ]
  },
  {
   "cell_type": "code",
   "execution_count": 16,
   "id": "7f1848ab",
   "metadata": {},
   "outputs": [
    {
     "name": "stdout",
     "output_type": "stream",
     "text": [
      "1 2 3\n"
     ]
    },
    {
     "data": {
      "text/plain": [
       "15"
      ]
     },
     "execution_count": 16,
     "metadata": {},
     "output_type": "execute_result"
    }
   ],
   "source": [
    "errorer(1, 2, 3)"
   ]
  },
  {
   "cell_type": "code",
   "execution_count": null,
   "id": "12aed77c",
   "metadata": {},
   "outputs": [],
   "source": []
  }
 ],
 "metadata": {
  "kernelspec": {
   "display_name": "Python 3",
   "language": "python",
   "name": "python3"
  },
  "language_info": {
   "codemirror_mode": {
    "name": "ipython",
    "version": 3
   },
   "file_extension": ".py",
   "mimetype": "text/x-python",
   "name": "python",
   "nbconvert_exporter": "python",
   "pygments_lexer": "ipython3",
   "version": "3.12.11"
  }
 },
 "nbformat": 4,
 "nbformat_minor": 5
}
