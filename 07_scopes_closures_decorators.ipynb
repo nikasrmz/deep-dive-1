{
 "cells": [
  {
   "cell_type": "code",
   "execution_count": 1,
   "id": "4ab1973b",
   "metadata": {},
   "outputs": [],
   "source": [
    "def func():\n",
    "    global var\n",
    "    var = 'hi'"
   ]
  },
  {
   "cell_type": "code",
   "execution_count": 2,
   "id": "f12a153a",
   "metadata": {},
   "outputs": [
    {
     "ename": "NameError",
     "evalue": "name 'var' is not defined",
     "output_type": "error",
     "traceback": [
      "\u001b[31m---------------------------------------------------------------------------\u001b[39m",
      "\u001b[31mNameError\u001b[39m                                 Traceback (most recent call last)",
      "\u001b[36mCell\u001b[39m\u001b[36m \u001b[39m\u001b[32mIn[2]\u001b[39m\u001b[32m, line 1\u001b[39m\n\u001b[32m----> \u001b[39m\u001b[32m1\u001b[39m \u001b[43mvar\u001b[49m\n",
      "\u001b[31mNameError\u001b[39m: name 'var' is not defined"
     ]
    }
   ],
   "source": [
    "var"
   ]
  },
  {
   "cell_type": "code",
   "execution_count": 3,
   "id": "f3129187",
   "metadata": {},
   "outputs": [],
   "source": [
    "func()"
   ]
  },
  {
   "cell_type": "code",
   "execution_count": 4,
   "id": "5bf9902a",
   "metadata": {},
   "outputs": [
    {
     "data": {
      "text/plain": [
       "'hi'"
      ]
     },
     "execution_count": 4,
     "metadata": {},
     "output_type": "execute_result"
    }
   ],
   "source": [
    "var"
   ]
  },
  {
   "cell_type": "code",
   "execution_count": 5,
   "id": "4aae049a",
   "metadata": {},
   "outputs": [],
   "source": [
    "a = 10"
   ]
  },
  {
   "cell_type": "code",
   "execution_count": 6,
   "id": "11ec24e4",
   "metadata": {},
   "outputs": [],
   "source": [
    "def func3():\n",
    "    print(a)\n",
    "    a = '123'"
   ]
  },
  {
   "cell_type": "code",
   "execution_count": 7,
   "id": "2973c8d4",
   "metadata": {},
   "outputs": [
    {
     "ename": "UnboundLocalError",
     "evalue": "cannot access local variable 'a' where it is not associated with a value",
     "output_type": "error",
     "traceback": [
      "\u001b[31m---------------------------------------------------------------------------\u001b[39m",
      "\u001b[31mUnboundLocalError\u001b[39m                         Traceback (most recent call last)",
      "\u001b[36mCell\u001b[39m\u001b[36m \u001b[39m\u001b[32mIn[7]\u001b[39m\u001b[32m, line 1\u001b[39m\n\u001b[32m----> \u001b[39m\u001b[32m1\u001b[39m \u001b[43mfunc3\u001b[49m\u001b[43m(\u001b[49m\u001b[43m)\u001b[49m\n",
      "\u001b[36mCell\u001b[39m\u001b[36m \u001b[39m\u001b[32mIn[6]\u001b[39m\u001b[32m, line 2\u001b[39m, in \u001b[36mfunc3\u001b[39m\u001b[34m()\u001b[39m\n\u001b[32m      1\u001b[39m \u001b[38;5;28;01mdef\u001b[39;00m\u001b[38;5;250m \u001b[39m\u001b[34mfunc3\u001b[39m():\n\u001b[32m----> \u001b[39m\u001b[32m2\u001b[39m     \u001b[38;5;28mprint\u001b[39m(\u001b[43ma\u001b[49m)\n\u001b[32m      3\u001b[39m     a = \u001b[33m'\u001b[39m\u001b[33m123\u001b[39m\u001b[33m'\u001b[39m\n",
      "\u001b[31mUnboundLocalError\u001b[39m: cannot access local variable 'a' where it is not associated with a value"
     ]
    }
   ],
   "source": [
    "func3()"
   ]
  },
  {
   "cell_type": "code",
   "execution_count": 8,
   "id": "8956987a",
   "metadata": {},
   "outputs": [
    {
     "name": "stdout",
     "output_type": "stream",
     "text": [
      "abc\n",
      "def\n"
     ]
    }
   ],
   "source": [
    "y = 20\n",
    "def maria():\n",
    "    x = 10\n",
    "\n",
    "    def rose():\n",
    "\n",
    "        def sina():\n",
    "            nonlocal x\n",
    "            global y\n",
    "            x = 'abc'\n",
    "            y = 'def'\n",
    "        \n",
    "        sina()\n",
    "    rose()\n",
    "    print(x)\n",
    "maria()\n",
    "print(y)"
   ]
  },
  {
   "cell_type": "markdown",
   "id": "78953de6",
   "metadata": {},
   "source": [
    "## Closures"
   ]
  },
  {
   "cell_type": "code",
   "execution_count": 9,
   "id": "61b8dc07",
   "metadata": {},
   "outputs": [],
   "source": [
    "def outer():\n",
    "    x = \"python\"\n",
    "    def inner():\n",
    "        return x\n",
    "    return inner"
   ]
  },
  {
   "cell_type": "code",
   "execution_count": 10,
   "id": "c27e76f5",
   "metadata": {},
   "outputs": [],
   "source": [
    "fn = outer()"
   ]
  },
  {
   "cell_type": "code",
   "execution_count": 11,
   "id": "921cdbe1",
   "metadata": {},
   "outputs": [
    {
     "data": {
      "text/plain": [
       "('x',)"
      ]
     },
     "execution_count": 11,
     "metadata": {},
     "output_type": "execute_result"
    }
   ],
   "source": [
    "fn.__code__.co_freevars"
   ]
  },
  {
   "cell_type": "code",
   "execution_count": 12,
   "id": "3a6791c7",
   "metadata": {},
   "outputs": [
    {
     "data": {
      "text/plain": [
       "(<cell at 0x000001D488B16740: str object at 0x000001D48578C2B0>,)"
      ]
     },
     "execution_count": 12,
     "metadata": {},
     "output_type": "execute_result"
    }
   ],
   "source": [
    "fn.__closure__"
   ]
  },
  {
   "cell_type": "code",
   "execution_count": 13,
   "id": "3e04cd4d",
   "metadata": {},
   "outputs": [
    {
     "name": "stdout",
     "output_type": "stream",
     "text": [
      "0x1d488fdeb80\n"
     ]
    }
   ],
   "source": [
    "def outer():\n",
    "    x = [1, 2, 3]\n",
    "    print(hex(id(x)))\n",
    "    def inner():\n",
    "        print(hex(id(x)))\n",
    "    return inner\n",
    "fn = outer()\n"
   ]
  },
  {
   "cell_type": "code",
   "execution_count": 14,
   "id": "eed18f6a",
   "metadata": {},
   "outputs": [
    {
     "name": "stdout",
     "output_type": "stream",
     "text": [
      "0x1d488fdeb80\n"
     ]
    }
   ],
   "source": [
    "fn()"
   ]
  },
  {
   "cell_type": "code",
   "execution_count": 15,
   "id": "ad984c41",
   "metadata": {},
   "outputs": [
    {
     "data": {
      "text/plain": [
       "('x',)"
      ]
     },
     "execution_count": 15,
     "metadata": {},
     "output_type": "execute_result"
    }
   ],
   "source": [
    "fn.__code__.co_freevars"
   ]
  },
  {
   "cell_type": "code",
   "execution_count": 16,
   "id": "18f046f5",
   "metadata": {},
   "outputs": [],
   "source": [
    "def create_adders():\n",
    "    adders = []\n",
    "    for i in range(4):\n",
    "        adders.append(lambda x, y=i: x + i)\n",
    "    return adders"
   ]
  },
  {
   "cell_type": "code",
   "execution_count": null,
   "id": "32917572",
   "metadata": {},
   "outputs": [],
   "source": []
  },
  {
   "cell_type": "code",
   "execution_count": 13,
   "id": "282d2141",
   "metadata": {},
   "outputs": [],
   "source": [
    "def averager():\n",
    "    total = 0\n",
    "    count = 0\n",
    "    def add(number):\n",
    "        nonlocal total\n",
    "        nonlocal count\n",
    "        total += number\n",
    "        count += 1\n",
    "        return total / count\n",
    "    return add"
   ]
  },
  {
   "cell_type": "code",
   "execution_count": 14,
   "id": "cbf3faba",
   "metadata": {},
   "outputs": [],
   "source": [
    "a = averager()"
   ]
  },
  {
   "cell_type": "code",
   "execution_count": 16,
   "id": "9da3b4a0",
   "metadata": {},
   "outputs": [
    {
     "data": {
      "text/plain": [
       "30.0"
      ]
     },
     "execution_count": 16,
     "metadata": {},
     "output_type": "execute_result"
    }
   ],
   "source": [
    "a(20)"
   ]
  },
  {
   "cell_type": "code",
   "execution_count": 17,
   "id": "1255ee03",
   "metadata": {},
   "outputs": [],
   "source": [
    "from time import perf_counter"
   ]
  },
  {
   "cell_type": "code",
   "execution_count": 18,
   "id": "b7019cbd",
   "metadata": {},
   "outputs": [
    {
     "data": {
      "text/plain": [
       "1475452.5641454"
      ]
     },
     "execution_count": 18,
     "metadata": {},
     "output_type": "execute_result"
    }
   ],
   "source": [
    "perf_counter()"
   ]
  },
  {
   "cell_type": "code",
   "execution_count": 31,
   "id": "218d33a2",
   "metadata": {},
   "outputs": [],
   "source": [
    "def timer():\n",
    "    start = perf_counter()\n",
    "    def poll():\n",
    "        return perf_counter() - start\n",
    "    return poll"
   ]
  },
  {
   "cell_type": "code",
   "execution_count": 32,
   "id": "ba2c50f9",
   "metadata": {},
   "outputs": [],
   "source": [
    "p = timer()"
   ]
  },
  {
   "cell_type": "code",
   "execution_count": 51,
   "id": "0aee86f4",
   "metadata": {},
   "outputs": [
    {
     "data": {
      "text/plain": [
       "2064.352222000016"
      ]
     },
     "execution_count": 51,
     "metadata": {},
     "output_type": "execute_result"
    }
   ],
   "source": [
    "p()"
   ]
  },
  {
   "cell_type": "code",
   "execution_count": null,
   "id": "9f709c71",
   "metadata": {},
   "outputs": [],
   "source": [
    "def counter(initial_value=0):\n",
    "    count = initial_value\n",
    "    def inc(n=1):\n",
    "        nonlocal count\n",
    "        count += n\n",
    "        return count\n",
    "    return inc"
   ]
  },
  {
   "cell_type": "code",
   "execution_count": 41,
   "id": "e2d28d2b",
   "metadata": {},
   "outputs": [],
   "source": [
    "c = counter()"
   ]
  },
  {
   "cell_type": "code",
   "execution_count": 50,
   "id": "261ee51d",
   "metadata": {},
   "outputs": [
    {
     "data": {
      "text/plain": [
       "24"
      ]
     },
     "execution_count": 50,
     "metadata": {},
     "output_type": "execute_result"
    }
   ],
   "source": [
    "c(12)"
   ]
  },
  {
   "cell_type": "code",
   "execution_count": 18,
   "id": "01cbc412",
   "metadata": {},
   "outputs": [],
   "source": [
    "def func_counter(fn):\n",
    "    cnt = 0\n",
    "    def inner(*args, **kwargs):\n",
    "        nonlocal cnt\n",
    "        cnt += 1\n",
    "        print(f\"{fn.__name__} has been called {cnt} times\")\n",
    "        return fn(*args, **kwargs)\n",
    "    return inner"
   ]
  },
  {
   "cell_type": "code",
   "execution_count": 55,
   "id": "f93464d9",
   "metadata": {},
   "outputs": [],
   "source": [
    "def add(a, b):\n",
    "    return a + b"
   ]
  },
  {
   "cell_type": "code",
   "execution_count": 57,
   "id": "71731762",
   "metadata": {},
   "outputs": [],
   "source": [
    "f_cnt = func_counter(add)"
   ]
  },
  {
   "cell_type": "code",
   "execution_count": 67,
   "id": "989773be",
   "metadata": {},
   "outputs": [
    {
     "name": "stdout",
     "output_type": "stream",
     "text": [
      "add has been called 10 times\n"
     ]
    },
    {
     "data": {
      "text/plain": [
       "37"
      ]
     },
     "execution_count": 67,
     "metadata": {},
     "output_type": "execute_result"
    }
   ],
   "source": [
    "f_cnt(12, 25)"
   ]
  },
  {
   "cell_type": "code",
   "execution_count": 82,
   "id": "e67b3587",
   "metadata": {},
   "outputs": [],
   "source": [
    "func_counts = {}"
   ]
  },
  {
   "cell_type": "code",
   "execution_count": 83,
   "id": "2d6f11da",
   "metadata": {},
   "outputs": [],
   "source": [
    "def func_counter(fn, func_counts):\n",
    "    cnt = 0\n",
    "    def inner(*args, **kwargs):\n",
    "        nonlocal cnt\n",
    "        cnt += 1\n",
    "        func_counts[fn.__name__] = cnt\n",
    "        return fn(*args, **kwargs)\n",
    "    return inner"
   ]
  },
  {
   "cell_type": "code",
   "execution_count": 85,
   "id": "8d0a591e",
   "metadata": {},
   "outputs": [],
   "source": [
    "counted_add = func_counter(add, func_counts)"
   ]
  },
  {
   "cell_type": "code",
   "execution_count": 80,
   "id": "77984281",
   "metadata": {},
   "outputs": [
    {
     "data": {
      "text/plain": [
       "3"
      ]
     },
     "execution_count": 80,
     "metadata": {},
     "output_type": "execute_result"
    }
   ],
   "source": [
    "counted_add(1, 2)"
   ]
  },
  {
   "cell_type": "code",
   "execution_count": 81,
   "id": "3e78e9b7",
   "metadata": {},
   "outputs": [
    {
     "data": {
      "text/plain": [
       "{'add': 2}"
      ]
     },
     "execution_count": 81,
     "metadata": {},
     "output_type": "execute_result"
    }
   ],
   "source": [
    "func_counts"
   ]
  },
  {
   "cell_type": "code",
   "execution_count": 113,
   "id": "986ffc52",
   "metadata": {},
   "outputs": [],
   "source": [
    "def factorialer():\n",
    "    cache = {}\n",
    "    def inner(n):\n",
    "        return 1 if n < 2 else cache.get(n) or (n * inner(n - 1))\n",
    "    return inner"
   ]
  },
  {
   "cell_type": "code",
   "execution_count": 110,
   "id": "33698920",
   "metadata": {},
   "outputs": [],
   "source": [
    "def factorialer():\n",
    "    cache = {}\n",
    "    def inner(n):\n",
    "        if n < 2:\n",
    "            return 1\n",
    "        if n in cache:\n",
    "            return cache[n]\n",
    "        return n * inner(n - 1)\n",
    "    return inner"
   ]
  },
  {
   "cell_type": "code",
   "execution_count": 114,
   "id": "8deb8ebc",
   "metadata": {},
   "outputs": [],
   "source": [
    "fact = factorialer()"
   ]
  },
  {
   "cell_type": "code",
   "execution_count": 116,
   "id": "1648be56",
   "metadata": {},
   "outputs": [
    {
     "data": {
      "text/plain": [
       "51090942171709440000"
      ]
     },
     "execution_count": 116,
     "metadata": {},
     "output_type": "execute_result"
    }
   ],
   "source": [
    "fact(21)"
   ]
  },
  {
   "cell_type": "markdown",
   "id": "7d3e157d",
   "metadata": {},
   "source": [
    "## Decorators"
   ]
  },
  {
   "cell_type": "code",
   "execution_count": 19,
   "id": "c4ce7a25",
   "metadata": {},
   "outputs": [],
   "source": [
    "@func_counter\n",
    "def mult(a, b):\n",
    "    return a * b"
   ]
  },
  {
   "cell_type": "code",
   "execution_count": 25,
   "id": "344eb52a",
   "metadata": {},
   "outputs": [
    {
     "name": "stdout",
     "output_type": "stream",
     "text": [
      "mult has been called 6 times\n"
     ]
    },
    {
     "data": {
      "text/plain": [
       "12"
      ]
     },
     "execution_count": 25,
     "metadata": {},
     "output_type": "execute_result"
    }
   ],
   "source": [
    "mult(2, 6)"
   ]
  },
  {
   "cell_type": "code",
   "execution_count": 26,
   "id": "d036faeb",
   "metadata": {},
   "outputs": [
    {
     "data": {
      "text/plain": [
       "'inner'"
      ]
     },
     "execution_count": 26,
     "metadata": {},
     "output_type": "execute_result"
    }
   ],
   "source": [
    "mult.__name__"
   ]
  },
  {
   "cell_type": "code",
   "execution_count": 27,
   "id": "4f4ba868",
   "metadata": {},
   "outputs": [],
   "source": [
    "from functools import wraps"
   ]
  },
  {
   "cell_type": "code",
   "execution_count": 28,
   "id": "5546b295",
   "metadata": {},
   "outputs": [],
   "source": [
    "def func_counter(fn):\n",
    "    cnt = 0\n",
    "    @wraps(fn)\n",
    "    def inner(*args, **kwargs):\n",
    "        nonlocal cnt\n",
    "        cnt += 1\n",
    "        print(f\"{fn.__name__} has been called {cnt} times\")\n",
    "        return fn(*args, **kwargs)\n",
    "    return inner"
   ]
  },
  {
   "cell_type": "code",
   "execution_count": 29,
   "id": "4b1bffb8",
   "metadata": {},
   "outputs": [],
   "source": [
    "@func_counter\n",
    "def mult(a, b):\n",
    "    return a * b"
   ]
  },
  {
   "cell_type": "code",
   "execution_count": 30,
   "id": "efd19b9c",
   "metadata": {},
   "outputs": [
    {
     "data": {
      "text/plain": [
       "'mult'"
      ]
     },
     "execution_count": 30,
     "metadata": {},
     "output_type": "execute_result"
    }
   ],
   "source": [
    "mult.__name__"
   ]
  },
  {
   "cell_type": "markdown",
   "id": "041126ea",
   "metadata": {},
   "source": [
    "#### Decorator exercises"
   ]
  },
  {
   "cell_type": "markdown",
   "id": "f61f6e30",
   "metadata": {},
   "source": [
    "Write a decorator @enforce_types(int, int) that ensures the first two arguments passed to a function are of type int, or raises a TypeError."
   ]
  },
  {
   "cell_type": "code",
   "execution_count": 34,
   "id": "5283e60d",
   "metadata": {},
   "outputs": [],
   "source": [
    "def enforce_types(fn, a, b):\n",
    "    @wraps(fn)\n",
    "    def inner(*args, **kwargs):\n",
    "        if not (args and len(args) >= 2 and type(args[0]) == a and type(args[1]) == b):\n",
    "            raise TypeError(f'First 2 arguments need to be of type {a} and {b}')\n",
    "        return fn(*args, **kwargs)\n",
    "    return inner"
   ]
  },
  {
   "cell_type": "code",
   "execution_count": 35,
   "id": "c73564e1",
   "metadata": {},
   "outputs": [
    {
     "ename": "TypeError",
     "evalue": "enforce_types() missing 1 required positional argument: 'b'",
     "output_type": "error",
     "traceback": [
      "\u001b[31m---------------------------------------------------------------------------\u001b[39m",
      "\u001b[31mTypeError\u001b[39m                                 Traceback (most recent call last)",
      "\u001b[36mCell\u001b[39m\u001b[36m \u001b[39m\u001b[32mIn[35]\u001b[39m\u001b[32m, line 1\u001b[39m\n\u001b[32m----> \u001b[39m\u001b[32m1\u001b[39m \u001b[38;5;129m@enforce_types\u001b[39m\u001b[43m(\u001b[49m\u001b[38;5;28;43mint\u001b[39;49m\u001b[43m,\u001b[49m\u001b[43m \u001b[49m\u001b[38;5;28;43mint\u001b[39;49m\u001b[43m)\u001b[49m\n\u001b[32m      2\u001b[39m \u001b[38;5;28;01mdef\u001b[39;00m\u001b[38;5;250m \u001b[39m\u001b[34madd\u001b[39m(a, b):\n\u001b[32m      3\u001b[39m     \u001b[38;5;28;01mreturn\u001b[39;00m a + b\n",
      "\u001b[31mTypeError\u001b[39m: enforce_types() missing 1 required positional argument: 'b'"
     ]
    }
   ],
   "source": [
    "@enforce_types(int, int)\n",
    "def add(a, b):\n",
    "    return a + b"
   ]
  },
  {
   "cell_type": "markdown",
   "id": "6fea0300",
   "metadata": {},
   "source": [
    "A decorator that allows a function to run only once. Subsequent calls return the result of the first call."
   ]
  },
  {
   "cell_type": "code",
   "execution_count": null,
   "id": "a39e072a",
   "metadata": {},
   "outputs": [],
   "source": [
    "def run_once(fn):\n",
    "    has_ran = False\n",
    "    result = None\n",
    "\n",
    "    @wraps(fn)\n",
    "    def inner(*args, **kwargs):\n",
    "        nonlocal result, has_ran\n",
    "        if not has_ran:\n",
    "            result = fn(*args, **kwargs)\n",
    "            has_ran = True\n",
    "        return result\n",
    "    return inner\n"
   ]
  },
  {
   "cell_type": "code",
   "execution_count": 39,
   "id": "a349242f",
   "metadata": {},
   "outputs": [],
   "source": [
    "@run_once\n",
    "def sq(a):\n",
    "    return a ** 2"
   ]
  },
  {
   "cell_type": "code",
   "execution_count": 43,
   "id": "96ced741",
   "metadata": {},
   "outputs": [
    {
     "data": {
      "text/plain": [
       "4"
      ]
     },
     "execution_count": 43,
     "metadata": {},
     "output_type": "execute_result"
    }
   ],
   "source": [
    "sq(6)"
   ]
  },
  {
   "cell_type": "markdown",
   "id": "b8d7c2ed",
   "metadata": {},
   "source": [
    "Write a decorator that caches the result of a function for a given input (memoization), like @cache."
   ]
  },
  {
   "cell_type": "code",
   "execution_count": 85,
   "id": "d815ecb1",
   "metadata": {},
   "outputs": [],
   "source": [
    "def cache(fn):\n",
    "    cache_dict = {}\n",
    "\n",
    "    @wraps(fn)\n",
    "    def inner(*args, **kwargs):\n",
    "        if (x := (frozenset(args), frozenset(kwargs.keys()), frozenset(kwargs.values()))) in cache_dict:\n",
    "            return cache_dict[x]\n",
    "        result = fn(*args, **kwargs)\n",
    "        cache_dict[(frozenset(args), frozenset(kwargs.keys()), frozenset(kwargs.values()))] = result\n",
    "        print(cache_dict)\n",
    "        return result\n",
    "    \n",
    "    return inner\n"
   ]
  },
  {
   "cell_type": "code",
   "execution_count": 86,
   "id": "8dc8afa8",
   "metadata": {},
   "outputs": [],
   "source": [
    "@cache\n",
    "def divstringer(a, b, s=''):\n",
    "    return s + str(a // b)"
   ]
  },
  {
   "cell_type": "code",
   "execution_count": 88,
   "id": "b1434e94",
   "metadata": {},
   "outputs": [
    {
     "name": "stdout",
     "output_type": "stream",
     "text": [
      "{(frozenset({2, 111}), frozenset({'s'}), frozenset({'abc'})): 'abc55', (frozenset({22, 111}), frozenset({'s'}), frozenset({'asbc'})): 'asbc5'}\n"
     ]
    },
    {
     "data": {
      "text/plain": [
       "'asbc5'"
      ]
     },
     "execution_count": 88,
     "metadata": {},
     "output_type": "execute_result"
    }
   ],
   "source": [
    "divstringer(111, 22, s='asbc')"
   ]
  },
  {
   "cell_type": "code",
   "execution_count": 91,
   "id": "e00908ba",
   "metadata": {},
   "outputs": [],
   "source": [
    "def timed(fn):\n",
    "    from time import perf_counter\n",
    "    from functools import wraps\n",
    "\n",
    "    @wraps(fn)\n",
    "    def inner(*args, **kwargs):\n",
    "        start = perf_counter()\n",
    "        result = fn(*args, **kwargs)\n",
    "        end = perf_counter()\n",
    "        elapsed = end - start\n",
    "\n",
    "        args_ = [str(a) for a in args]\n",
    "        kwargs_ = [f'{k}={v}' for k, v in kwargs.items()]\n",
    "        all_args = args_ + kwargs_\n",
    "        args_str = ', '.join(all_args)\n",
    "\n",
    "        print(f'{fn.__name__}({args_str}) took {elapsed:.6f}s to run')\n",
    "        \n",
    "        return result\n",
    "    \n",
    "    return inner"
   ]
  },
  {
   "cell_type": "code",
   "execution_count": 97,
   "id": "dec7a0d8",
   "metadata": {},
   "outputs": [],
   "source": [
    "def fib(n):\n",
    "    if n <= 2: \n",
    "        return 1\n",
    "    return fib(n - 1) + fib(n - 2)"
   ]
  },
  {
   "cell_type": "code",
   "execution_count": 99,
   "id": "3e06a3fb",
   "metadata": {},
   "outputs": [],
   "source": [
    "@timed\n",
    "def recursive_fib(n):\n",
    "    return fib(n)"
   ]
  },
  {
   "cell_type": "code",
   "execution_count": 107,
   "id": "232c5643",
   "metadata": {},
   "outputs": [
    {
     "name": "stdout",
     "output_type": "stream",
     "text": [
      "recursive_fib(40) took 10.928761s to run\n"
     ]
    },
    {
     "data": {
      "text/plain": [
       "102334155"
      ]
     },
     "execution_count": 107,
     "metadata": {},
     "output_type": "execute_result"
    }
   ],
   "source": [
    "recursive_fib(40)"
   ]
  },
  {
   "cell_type": "code",
   "execution_count": 122,
   "id": "3ed966f0",
   "metadata": {},
   "outputs": [],
   "source": [
    "@timed\n",
    "def loop_fib(n):\n",
    "    fib_1 = 1\n",
    "    fib_2 = 1\n",
    "    for i in range(n-2):\n",
    "        fib_1, fib_2 = fib_2, fib_1 + fib_2\n",
    "    return fib_2\n"
   ]
  },
  {
   "cell_type": "code",
   "execution_count": 123,
   "id": "d9552007",
   "metadata": {},
   "outputs": [
    {
     "name": "stdout",
     "output_type": "stream",
     "text": [
      "loop_fib(40) took 0.000004s to run\n"
     ]
    },
    {
     "data": {
      "text/plain": [
       "102334155"
      ]
     },
     "execution_count": 123,
     "metadata": {},
     "output_type": "execute_result"
    }
   ],
   "source": [
    "loop_fib(40)"
   ]
  },
  {
   "cell_type": "code",
   "execution_count": 8,
   "id": "bac73938",
   "metadata": {},
   "outputs": [],
   "source": [
    "from functools import reduce"
   ]
  },
  {
   "cell_type": "code",
   "execution_count": 138,
   "id": "b32183b0",
   "metadata": {},
   "outputs": [],
   "source": [
    "@timed\n",
    "def reduce_fib(n):\n",
    "    return reduce(lambda x, y: (x[1], x[0] + x[1]), range(n - 1), (0, 1))[1]"
   ]
  },
  {
   "cell_type": "code",
   "execution_count": 141,
   "id": "e8edeef6",
   "metadata": {},
   "outputs": [
    {
     "name": "stdout",
     "output_type": "stream",
     "text": [
      "reduce_fib(40) took 0.000008s to run\n"
     ]
    },
    {
     "data": {
      "text/plain": [
       "102334155"
      ]
     },
     "execution_count": 141,
     "metadata": {},
     "output_type": "execute_result"
    }
   ],
   "source": [
    "reduce_fib(40)"
   ]
  },
  {
   "cell_type": "code",
   "execution_count": null,
   "id": "cc95cae7",
   "metadata": {},
   "outputs": [],
   "source": [
    "def avg_timed(fn, n):\n",
    "    from time import perf_counter\n",
    "    from functools import wraps\n",
    "\n",
    "    @wraps(fn)\n",
    "    def inner(*args, **kwargs):\n",
    "        total = 0\n",
    "        count = 0\n",
    "        for i in range(n):\n",
    "            start = perf_counter()\n",
    "            result = fn(*args, **kwargs)\n",
    "            end = perf_counter()\n",
    "            elapsed = end - start\n",
    "            total += elapsed\n",
    "            count += 1\n",
    "\n",
    "        args_ = [str(a) for a in args]\n",
    "        kwargs_ = [f'{k}={v}' for k, v in kwargs.items()]\n",
    "        all_args = args_ + kwargs_\n",
    "        args_str = ', '.join(all_args)\n",
    "\n",
    "        print(f'{fn.__name__}({args_str}) took {total / count :.6f}s to run')\n",
    "\n",
    "        return result\n",
    "    \n",
    "    return inner"
   ]
  },
  {
   "cell_type": "code",
   "execution_count": null,
   "id": "91261091",
   "metadata": {},
   "outputs": [],
   "source": [
    "@avg_timed(15)\n",
    "def recursive_fib(n):\n",
    "    return fib(n)"
   ]
  },
  {
   "cell_type": "code",
   "execution_count": 155,
   "id": "9cce7cf6",
   "metadata": {},
   "outputs": [
    {
     "name": "stdout",
     "output_type": "stream",
     "text": [
      "recursive_fib(32) took 0.239005s to run\n"
     ]
    },
    {
     "data": {
      "text/plain": [
       "2178309"
      ]
     },
     "execution_count": 155,
     "metadata": {},
     "output_type": "execute_result"
    }
   ],
   "source": [
    "recursive_fib(32)"
   ]
  },
  {
   "cell_type": "code",
   "execution_count": null,
   "id": "f6af987e",
   "metadata": {},
   "outputs": [],
   "source": []
  },
  {
   "cell_type": "code",
   "execution_count": 2,
   "id": "ba839313",
   "metadata": {},
   "outputs": [],
   "source": [
    "def logged(fn):\n",
    "    from functools import wraps\n",
    "    from datetime import datetime\n",
    "\n",
    "    @wraps(fn)\n",
    "    def inner(*args, **kwargs):\n",
    "        run_dt = datetime.now()\n",
    "        result = fn(*args, **kwargs)\n",
    "        print(f'{run_dt}: called {fn.__name__}')\n",
    "        return result\n",
    "    \n",
    "    return inner"
   ]
  },
  {
   "cell_type": "code",
   "execution_count": 5,
   "id": "504085da",
   "metadata": {},
   "outputs": [],
   "source": [
    "@logged\n",
    "def func1():\n",
    "    pass"
   ]
  },
  {
   "cell_type": "code",
   "execution_count": 6,
   "id": "0e51667d",
   "metadata": {},
   "outputs": [
    {
     "name": "stdout",
     "output_type": "stream",
     "text": [
      "2025-06-24 13:00:26.365636: called func1\n"
     ]
    }
   ],
   "source": [
    "func1()"
   ]
  },
  {
   "cell_type": "code",
   "execution_count": 7,
   "id": "68f6e588",
   "metadata": {},
   "outputs": [],
   "source": [
    "def timed(fn):\n",
    "    from time import perf_counter\n",
    "    from functools import wraps\n",
    "\n",
    "    @wraps(fn)\n",
    "    def inner(*args, **kwargs):\n",
    "        start = perf_counter()\n",
    "        result = fn(*args, **kwargs)\n",
    "        end = perf_counter()\n",
    "        elapsed = end - start\n",
    "\n",
    "        args_ = [str(a) for a in args]\n",
    "        kwargs_ = [f'{k}={v}' for k, v in kwargs.items()]\n",
    "        all_args = args_ + kwargs_\n",
    "        args_str = ', '.join(all_args)\n",
    "\n",
    "        print(f'{fn.__name__}({args_str}) took {elapsed:.6f}s to run')\n",
    "        \n",
    "        return result\n",
    "    \n",
    "    return inner"
   ]
  },
  {
   "cell_type": "code",
   "execution_count": 26,
   "id": "183b691f",
   "metadata": {},
   "outputs": [],
   "source": [
    "@logged\n",
    "@timed\n",
    "def fact(n):\n",
    "    return reduce(lambda x, y: x * y, range(1, n+1))"
   ]
  },
  {
   "cell_type": "code",
   "execution_count": 27,
   "id": "8b853a3e",
   "metadata": {},
   "outputs": [
    {
     "name": "stdout",
     "output_type": "stream",
     "text": [
      "fact(1500) took 0.000588s to run\n",
      "2025-06-24 13:05:30.800586: called fact\n"
     ]
    },
    {
     "data": {
      "text/plain": [
       "48119977967797748601669900935813797818348080406726138081308559411630575189001095591292230585206733851868464009619343585194052091124618166270271481881393331431627962810299844149333789044689395510487167879769325303699470467829234399263326545652860748605075746366928323606645492277541120083438086727369377887676000211405318480244354207419604864176969950581435222198851194568984095705945549589054568321792338919149442985919957734792959402499096845643020401869381175603964424333222114125974374817804242633309769804293952870034619354125014210045647664063240162007560108665290568646128342557147350985358724154623253371867470765120422073867963935775258692109753041762094343569050497470353531764481503174750911858230906998361066084787758316110585736013365377431860738572261325738233656835271947352695180865573043834027955539012765489372645042504406597752357481931532872356635411224578334040522294746402829585458478708778346379431862368824819009177091444034885941394319343910223168655869761799669075059527608502465593181398566214786801211651657222004123456498258513120359126022843038535083709796101565934859483203933443308601475813108363074118562404412420191947127585482919172173045961122122701434297870691932154082986945954748251105782181586397275820342101470457300633590139512919549474113721711616912519714191760699935509810254849967087635936181176363954224186031346682928878492872249485456690138831610135377916327940503701400290125509132140782614640495733518048670983360134097860364762638658894873174499870133559364805443430831459505987809215393353387232078177562975021460595422358573128085417162336030235138652735438053034531962620811566019896879275257163988352090874930346115518331202927263708446729394381879888839549731876978682249320628599631628662375508826209854754631984276392670919216923002770077734756077549035942976209159416211581439461484509549370357486770276807687544580164314647595031368948490282897173328013518435758700056425922638411889496527975846052717958044813737086806600171993703579485864029383208714528950303253881360812631162134750100307772634337467012820470715650810714689905121432259528505483053930402217400686061612471659630192434864094539828085677465383026128353771071152304197549798870706139893609140045659756285435787771636258253666592102151236142132724425850991205720020493660580896600891888594659612927724357866265934517615841298789154462249169688860092640284756382431746120357767933119589280468687348061788072986362788582227019465263474828590646048451070702923434422714349595857654843699542321849363652767771978314681013589442955219879702008068934096624650625769705233333462826013860098698155180331145365652453482955497979915586438474687345677874451117702250441711504844638414485210092261397271970571029038581873069951161330495772310508760528249706514238384269808639507080418298318311361373628512041716415196868334254119137139589149597210032153545941114666530498906529240798164804007394775927836045668573993316428972539932745757171947402454257142633700815922407278403640595355142075599446056337986717212316223257763412164180899532722039383244462511410346646148863397237096276822656157561194665545757017429842404840309758925618650507921043007241637877939825811059339138925526124514467627126548126795078784022672860886251974581362141782786407402896309678008909663263987018538107050886193489012497405005820727271232733728141775132722013860591169620692789290456794698409808557447756701311883266010859016027592252397754508251628808293537776536569608111330584797160694847898923196743970244451842702266403326317319092117151143971679500042590269255093130215984418097418435474300467281949798227102529873732749027992079700287275900856241172902880909546551703263202853584498085358955307673717177961902081098618729046348849060249600000000000000000000000000000000000000000000000000000000000000000000000000000000000000000000000000000000000000000000000000000000000000000000000000000000000000000000000000000000000000000000000000000000000000000000000000000000000000000000000000000000000000000000000000000000000000000000000000000000000000000000000000000000000000000000000000000000000000000000000000000000000000"
      ]
     },
     "execution_count": 27,
     "metadata": {},
     "output_type": "execute_result"
    }
   ],
   "source": [
    "fact(1500)"
   ]
  },
  {
   "cell_type": "code",
   "execution_count": null,
   "id": "7aa358e1",
   "metadata": {},
   "outputs": [],
   "source": [
    "def fib(n):\n",
    "    print(f'calculating {n}')\n",
    "    return 1 if n <= 2 else fib(n - 1) + fib(n - 2)"
   ]
  },
  {
   "cell_type": "code",
   "execution_count": 44,
   "id": "e17499df",
   "metadata": {},
   "outputs": [],
   "source": [
    "class Fib:\n",
    "    def __init__(self):\n",
    "        self.cache = {1: 1, 2: 1}\n",
    "\n",
    "    def __call__(self, n):\n",
    "        if n in self.cache:\n",
    "            return self.cache[n]\n",
    "        self.cache[n] = (res := self(n - 1) + self(n - 2))\n",
    "        return res"
   ]
  },
  {
   "cell_type": "code",
   "execution_count": 45,
   "id": "ae7a521b",
   "metadata": {},
   "outputs": [],
   "source": [
    "f = Fib()"
   ]
  },
  {
   "cell_type": "code",
   "execution_count": 46,
   "id": "aee8409d",
   "metadata": {},
   "outputs": [
    {
     "data": {
      "text/plain": [
       "781774079430987230203437"
      ]
     },
     "execution_count": 46,
     "metadata": {},
     "output_type": "execute_result"
    }
   ],
   "source": [
    "f(116)"
   ]
  },
  {
   "cell_type": "code",
   "execution_count": 51,
   "id": "b0cd5651",
   "metadata": {},
   "outputs": [],
   "source": [
    "def fibber(cache={1: 1, 2: 1}):\n",
    "    \n",
    "    def inner(n):\n",
    "        if n not in cache:\n",
    "            cache[n] = inner(n - 1) + inner(n - 2)\n",
    "        return cache[n]\n",
    "    \n",
    "    return inner\n"
   ]
  },
  {
   "cell_type": "code",
   "execution_count": 52,
   "id": "8d7d50b9",
   "metadata": {},
   "outputs": [],
   "source": [
    "f2 = fibber()"
   ]
  },
  {
   "cell_type": "code",
   "execution_count": 53,
   "id": "20d78bf8",
   "metadata": {},
   "outputs": [
    {
     "data": {
      "text/plain": [
       "781774079430987230203437"
      ]
     },
     "execution_count": 53,
     "metadata": {},
     "output_type": "execute_result"
    }
   ],
   "source": [
    "f2(116)"
   ]
  },
  {
   "cell_type": "code",
   "execution_count": 54,
   "id": "0f24a375",
   "metadata": {},
   "outputs": [],
   "source": [
    "def memoize_single_arg(fn):\n",
    "    cache = dict()\n",
    "\n",
    "    def inner(x):\n",
    "        if x not in cache:\n",
    "            cache[x] = fn(x)\n",
    "        return cache[x]\n",
    "\n",
    "    return inner"
   ]
  },
  {
   "cell_type": "code",
   "execution_count": null,
   "id": "17d9b7d9",
   "metadata": {},
   "outputs": [],
   "source": [
    "def memoize_no_kwargs(fn):\n",
    "    cache = dict()\n",
    "\n",
    "    def inner(*args):\n",
    "        if x:=tuple(args) not in cache:\n",
    "            cache[x] = fn(x)\n",
    "        return cache[x]\n",
    "\n",
    "    return inner"
   ]
  },
  {
   "cell_type": "code",
   "execution_count": null,
   "id": "5626a122",
   "metadata": {},
   "outputs": [],
   "source": [
    "@memoize_single_arg\n",
    "def fib(n):\n",
    "    print(f'calculating {n}')\n",
    "    return 1 if n <= 2 else fib(n - 1) + fib(n - 2)"
   ]
  },
  {
   "cell_type": "code",
   "execution_count": 61,
   "id": "26ccf52f",
   "metadata": {},
   "outputs": [
    {
     "data": {
      "text/plain": [
       "22002056689466296922983322104048463"
      ]
     },
     "execution_count": 61,
     "metadata": {},
     "output_type": "execute_result"
    }
   ],
   "source": [
    "fib(166)"
   ]
  },
  {
   "cell_type": "code",
   "execution_count": null,
   "id": "e41b9356",
   "metadata": {},
   "outputs": [],
   "source": [
    "from functools import lru_cache"
   ]
  },
  {
   "cell_type": "code",
   "execution_count": 72,
   "id": "a53a9c6f",
   "metadata": {},
   "outputs": [],
   "source": [
    "@lru_cache(maxsize=8)\n",
    "def fib(n):\n",
    "    print(f'calculating {n}')\n",
    "    return 1 if n <= 2 else fib(n - 1) + fib(n - 2)"
   ]
  },
  {
   "cell_type": "code",
   "execution_count": 79,
   "id": "ebfd91f4",
   "metadata": {},
   "outputs": [
    {
     "name": "stdout",
     "output_type": "stream",
     "text": [
      "calculating 10\n",
      "calculating 9\n",
      "calculating 8\n",
      "calculating 7\n",
      "calculating 6\n"
     ]
    },
    {
     "data": {
      "text/plain": [
       "55"
      ]
     },
     "execution_count": 79,
     "metadata": {},
     "output_type": "execute_result"
    }
   ],
   "source": [
    "fib(10)"
   ]
  },
  {
   "cell_type": "code",
   "execution_count": 12,
   "id": "94ef2468",
   "metadata": {},
   "outputs": [],
   "source": [
    "def avg_timed(n):\n",
    "    def dec(fn):\n",
    "        from time import perf_counter\n",
    "        from functools import wraps\n",
    "\n",
    "        @wraps(fn)\n",
    "        def inner(*args, **kwargs):\n",
    "            total = 0\n",
    "            for i in range(n):\n",
    "                start = perf_counter()\n",
    "                result = fn(*args, **kwargs)\n",
    "                end = perf_counter()\n",
    "                elapsed = end - start\n",
    "                total += elapsed\n",
    "\n",
    "            args_ = [str(a) for a in args]\n",
    "            kwargs_ = [f'{k}={v}' for k, v in kwargs.items()]\n",
    "            all_args = args_ + kwargs_\n",
    "            args_str = ', '.join(all_args)\n",
    "\n",
    "            print(f'{fn.__name__}({args_str}) took {total / n :.6f}s to run')\n",
    "\n",
    "            return result\n",
    "        \n",
    "        return inner\n",
    "    return dec"
   ]
  },
  {
   "cell_type": "code",
   "execution_count": 2,
   "id": "9251a7ed",
   "metadata": {},
   "outputs": [],
   "source": [
    "def fib(n):\n",
    "    return 1 if n <= 2 else fib(n - 1) + fib(n - 2)"
   ]
  },
  {
   "cell_type": "code",
   "execution_count": 9,
   "id": "717a0875",
   "metadata": {},
   "outputs": [],
   "source": [
    "@avg_timed(15)\n",
    "def recursive_fib(n):\n",
    "    return fib(n)"
   ]
  },
  {
   "cell_type": "code",
   "execution_count": 11,
   "id": "edb9e123",
   "metadata": {},
   "outputs": [
    {
     "name": "stdout",
     "output_type": "stream",
     "text": [
      "recursive_fib(32) took 0.320029s to run\n"
     ]
    },
    {
     "data": {
      "text/plain": [
       "2178309"
      ]
     },
     "execution_count": 11,
     "metadata": {},
     "output_type": "execute_result"
    }
   ],
   "source": [
    "recursive_fib(32)"
   ]
  }
 ],
 "metadata": {
  "kernelspec": {
   "display_name": ".venv",
   "language": "python",
   "name": "python3"
  },
  "language_info": {
   "codemirror_mode": {
    "name": "ipython",
    "version": 3
   },
   "file_extension": ".py",
   "mimetype": "text/x-python",
   "name": "python",
   "nbconvert_exporter": "python",
   "pygments_lexer": "ipython3",
   "version": "3.11.0"
  }
 },
 "nbformat": 4,
 "nbformat_minor": 5
}
