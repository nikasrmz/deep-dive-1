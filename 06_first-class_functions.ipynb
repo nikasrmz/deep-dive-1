{
 "cells": [
  {
   "cell_type": "markdown",
   "id": "ff62d8e3",
   "metadata": {},
   "source": [
    "## Lambda functions"
   ]
  },
  {
   "cell_type": "code",
   "execution_count": 2,
   "id": "2ed487d0",
   "metadata": {},
   "outputs": [],
   "source": [
    "sq = lambda x: x**2"
   ]
  },
  {
   "cell_type": "code",
   "execution_count": 4,
   "id": "24695a1e",
   "metadata": {},
   "outputs": [
    {
     "data": {
      "text/plain": [
       "361"
      ]
     },
     "execution_count": 4,
     "metadata": {},
     "output_type": "execute_result"
    }
   ],
   "source": [
    "sq(19)"
   ]
  },
  {
   "cell_type": "code",
   "execution_count": 6,
   "id": "4842a03d",
   "metadata": {},
   "outputs": [
    {
     "data": {
      "text/plain": [
       "['Grace Hopper', 'Ada Lovelace', 'John Smith']"
      ]
     },
     "execution_count": 6,
     "metadata": {},
     "output_type": "execute_result"
    }
   ],
   "source": [
    "# sort by last names\n",
    "names = ['John Smith', 'Ada Lovelace', 'Grace Hopper']\n",
    "sorted(names, key=lambda x: x.split(' ')[-1])"
   ]
  },
  {
   "cell_type": "code",
   "execution_count": 9,
   "id": "fd466762",
   "metadata": {},
   "outputs": [
    {
     "data": {
      "text/plain": [
       "['pie', 'apple', 'patio', 'zebra', 'banana', 'Washington']"
      ]
     },
     "execution_count": 9,
     "metadata": {},
     "output_type": "execute_result"
    }
   ],
   "source": [
    "# sort by length, then by alphabet\n",
    "words = ['banana', 'pie', 'Washington', 'apple', 'zebra', 'patio']\n",
    "sorted(words, key=lambda x: (len(x), x))"
   ]
  },
  {
   "cell_type": "code",
   "execution_count": 13,
   "id": "9d9aa8d6",
   "metadata": {},
   "outputs": [
    {
     "data": {
      "text/plain": [
       "'odd'"
      ]
     },
     "execution_count": 13,
     "metadata": {},
     "output_type": "execute_result"
    }
   ],
   "source": [
    "# odd/even \n",
    "check = lambda x: 'odd' if x % 2 else 'even'\n",
    "\n",
    "check(3)"
   ]
  },
  {
   "cell_type": "code",
   "execution_count": 12,
   "id": "dbc1caf8",
   "metadata": {},
   "outputs": [
    {
     "data": {
      "text/plain": [
       "'even'"
      ]
     },
     "execution_count": 12,
     "metadata": {},
     "output_type": "execute_result"
    }
   ],
   "source": [
    "check(2)"
   ]
  },
  {
   "cell_type": "code",
   "execution_count": null,
   "id": "3e1d5ac5",
   "metadata": {},
   "outputs": [],
   "source": [
    "# challenge - sort by random\n",
    "l = list(range(1, 11))"
   ]
  },
  {
   "cell_type": "code",
   "execution_count": 4,
   "id": "251b3874",
   "metadata": {},
   "outputs": [
    {
     "data": {
      "text/plain": [
       "[1, 2, 3, 4, 5, 6, 7, 8, 9, 10]"
      ]
     },
     "execution_count": 4,
     "metadata": {},
     "output_type": "execute_result"
    }
   ],
   "source": [
    "l"
   ]
  },
  {
   "cell_type": "code",
   "execution_count": 9,
   "id": "aa0c09c1",
   "metadata": {},
   "outputs": [],
   "source": [
    "import random"
   ]
  },
  {
   "cell_type": "code",
   "execution_count": 12,
   "id": "f72c113f",
   "metadata": {},
   "outputs": [
    {
     "data": {
      "text/plain": [
       "[2, 7, 3, 9, 10, 8, 6, 1, 4, 5]"
      ]
     },
     "execution_count": 12,
     "metadata": {},
     "output_type": "execute_result"
    }
   ],
   "source": [
    "sorted(l, key=lambda x: random.random())"
   ]
  },
  {
   "cell_type": "markdown",
   "id": "68a2581e",
   "metadata": {},
   "source": [
    "## Function introspection"
   ]
  },
  {
   "cell_type": "code",
   "execution_count": 61,
   "id": "f6a59d9d",
   "metadata": {},
   "outputs": [
    {
     "name": "stdout",
     "output_type": "stream",
     "text": [
      "func (2, 12) {'e': 10}\n"
     ]
    }
   ],
   "source": [
    "# preceding line comment\n",
    "def func(a, b=2, c=12, *args, d, e=10, **kwargs):\n",
    "    # TODO: boom boom\n",
    "    # normal comment\n",
    "    return a + b + c\n",
    "\n",
    "print(func.__name__, func.__defaults__, func.__kwdefaults__)"
   ]
  },
  {
   "cell_type": "code",
   "execution_count": 17,
   "id": "bb19080b",
   "metadata": {},
   "outputs": [
    {
     "data": {
      "text/plain": [
       "['__annotations__',\n",
       " '__builtins__',\n",
       " '__call__',\n",
       " '__class__',\n",
       " '__closure__',\n",
       " '__code__',\n",
       " '__defaults__',\n",
       " '__delattr__',\n",
       " '__dict__',\n",
       " '__dir__',\n",
       " '__doc__',\n",
       " '__eq__',\n",
       " '__format__',\n",
       " '__ge__',\n",
       " '__get__',\n",
       " '__getattribute__',\n",
       " '__getstate__',\n",
       " '__globals__',\n",
       " '__gt__',\n",
       " '__hash__',\n",
       " '__init__',\n",
       " '__init_subclass__',\n",
       " '__kwdefaults__',\n",
       " '__le__',\n",
       " '__lt__',\n",
       " '__module__',\n",
       " '__name__',\n",
       " '__ne__',\n",
       " '__new__',\n",
       " '__qualname__',\n",
       " '__reduce__',\n",
       " '__reduce_ex__',\n",
       " '__repr__',\n",
       " '__setattr__',\n",
       " '__sizeof__',\n",
       " '__str__',\n",
       " '__subclasshook__']"
      ]
     },
     "execution_count": 17,
     "metadata": {},
     "output_type": "execute_result"
    }
   ],
   "source": [
    "dir(func)"
   ]
  },
  {
   "cell_type": "code",
   "execution_count": null,
   "id": "431e2439",
   "metadata": {},
   "outputs": [],
   "source": [
    "import inspect"
   ]
  },
  {
   "cell_type": "code",
   "execution_count": 21,
   "id": "cb80a51f",
   "metadata": {},
   "outputs": [
    {
     "name": "stdout",
     "output_type": "stream",
     "text": [
      "False True True\n"
     ]
    }
   ],
   "source": [
    "print(\n",
    "    inspect.ismethod(func),\n",
    "    inspect.isfunction(func),\n",
    "    inspect.isroutine(func),\n",
    ")"
   ]
  },
  {
   "cell_type": "code",
   "execution_count": 38,
   "id": "31e7531f",
   "metadata": {},
   "outputs": [
    {
     "data": {
      "text/plain": [
       "'def func(a, b=2, c=12, *args, d, e=10, **kwargs):\\n    # TODO: boom boom\\n    # normal comment\\n    return a + b + c\\n'"
      ]
     },
     "execution_count": 38,
     "metadata": {},
     "output_type": "execute_result"
    }
   ],
   "source": [
    "inspect.getsource(func)"
   ]
  },
  {
   "cell_type": "code",
   "execution_count": 25,
   "id": "4e2ce52f",
   "metadata": {},
   "outputs": [
    {
     "data": {
      "text/plain": [
       "<module '__main__'>"
      ]
     },
     "execution_count": 25,
     "metadata": {},
     "output_type": "execute_result"
    }
   ],
   "source": [
    "inspect.getmodule(func)"
   ]
  },
  {
   "cell_type": "code",
   "execution_count": 63,
   "id": "b18b261b",
   "metadata": {},
   "outputs": [
    {
     "data": {
      "text/plain": [
       "'# preceding line comment\\n'"
      ]
     },
     "execution_count": 63,
     "metadata": {},
     "output_type": "execute_result"
    }
   ],
   "source": [
    "inspect.getcomments(func)"
   ]
  },
  {
   "cell_type": "code",
   "execution_count": 42,
   "id": "16a45394",
   "metadata": {},
   "outputs": [],
   "source": [
    "sign = inspect.signature(func)"
   ]
  },
  {
   "cell_type": "code",
   "execution_count": 60,
   "id": "d6109394",
   "metadata": {},
   "outputs": [
    {
     "data": {
      "text/plain": [
       "[<Parameter \"a\">,\n",
       " <Parameter \"b=2\">,\n",
       " <Parameter \"c=12\">,\n",
       " <Parameter \"*args\">,\n",
       " <Parameter \"d\">,\n",
       " <Parameter \"e=10\">,\n",
       " <Parameter \"**kwargs\">]"
      ]
     },
     "execution_count": 60,
     "metadata": {},
     "output_type": "execute_result"
    }
   ],
   "source": [
    "list(sign.parameters.values())"
   ]
  },
  {
   "cell_type": "code",
   "execution_count": null,
   "id": "5e837144",
   "metadata": {},
   "outputs": [
    {
     "name": "stdout",
     "output_type": "stream",
     "text": [
      "name: a\n",
      "default: <class 'inspect._empty'>\n",
      "annotation: <class 'inspect._empty'>\n",
      "kind: POSITIONAL_OR_KEYWORD\n",
      "name: b\n",
      "default: 2\n",
      "annotation: <class 'inspect._empty'>\n",
      "kind: POSITIONAL_OR_KEYWORD\n",
      "name: c\n",
      "default: 12\n",
      "annotation: <class 'inspect._empty'>\n",
      "kind: POSITIONAL_OR_KEYWORD\n",
      "name: args\n",
      "default: <class 'inspect._empty'>\n",
      "annotation: <class 'inspect._empty'>\n",
      "kind: VAR_POSITIONAL\n",
      "name: d\n",
      "default: <class 'inspect._empty'>\n",
      "annotation: <class 'inspect._empty'>\n",
      "kind: KEYWORD_ONLY\n",
      "name: e\n",
      "default: 10\n",
      "annotation: <class 'inspect._empty'>\n",
      "kind: KEYWORD_ONLY\n",
      "name: kwargs\n",
      "default: <class 'inspect._empty'>\n",
      "annotation: <class 'inspect._empty'>\n",
      "kind: VAR_KEYWORD\n"
     ]
    }
   ],
   "source": [
    "for p in sign.parameters.values():\n",
    "    print('name:', p.name)\n",
    "    print('default:', p.default)\n",
    "    print('annotation:', p.annotation)\n",
    "    print('kind:', p.kind)"
   ]
  },
  {
   "cell_type": "markdown",
   "id": "03871ba4",
   "metadata": {},
   "source": [
    "## Callables"
   ]
  },
  {
   "cell_type": "code",
   "execution_count": 70,
   "id": "e697a967",
   "metadata": {},
   "outputs": [
    {
     "data": {
      "text/plain": [
       "True"
      ]
     },
     "execution_count": 70,
     "metadata": {},
     "output_type": "execute_result"
    }
   ],
   "source": [
    "callable(\"abc\".upper)"
   ]
  },
  {
   "cell_type": "code",
   "execution_count": 89,
   "id": "43d8848d",
   "metadata": {},
   "outputs": [],
   "source": [
    "class MyClass:\n",
    "    def __init__(self, x=2):\n",
    "        print(\"initialized\")\n",
    "        self.counter = x\n",
    "\n",
    "    def __call__(self, *args, **kwds):\n",
    "        self.counter += args and args[0] or 1\n",
    "        print(\"yes, this class is callable\")"
   ]
  },
  {
   "cell_type": "code",
   "execution_count": 90,
   "id": "32fdb792",
   "metadata": {},
   "outputs": [
    {
     "name": "stdout",
     "output_type": "stream",
     "text": [
      "initialized\n"
     ]
    }
   ],
   "source": [
    "c = MyClass()"
   ]
  },
  {
   "cell_type": "code",
   "execution_count": 91,
   "id": "df22cd5c",
   "metadata": {},
   "outputs": [
    {
     "data": {
      "text/plain": [
       "True"
      ]
     },
     "execution_count": 91,
     "metadata": {},
     "output_type": "execute_result"
    }
   ],
   "source": [
    "callable(MyClass)"
   ]
  },
  {
   "cell_type": "code",
   "execution_count": 92,
   "id": "a5ae9e55",
   "metadata": {},
   "outputs": [
    {
     "data": {
      "text/plain": [
       "True"
      ]
     },
     "execution_count": 92,
     "metadata": {},
     "output_type": "execute_result"
    }
   ],
   "source": [
    "callable(c)"
   ]
  },
  {
   "cell_type": "code",
   "execution_count": 93,
   "id": "1a975d5d",
   "metadata": {},
   "outputs": [
    {
     "data": {
      "text/plain": [
       "2"
      ]
     },
     "execution_count": 93,
     "metadata": {},
     "output_type": "execute_result"
    }
   ],
   "source": [
    "c.counter"
   ]
  },
  {
   "cell_type": "code",
   "execution_count": 98,
   "id": "8abb7fce",
   "metadata": {},
   "outputs": [
    {
     "name": "stdout",
     "output_type": "stream",
     "text": [
      "yes, this class is callable\n"
     ]
    }
   ],
   "source": [
    "c(5)"
   ]
  },
  {
   "cell_type": "code",
   "execution_count": 99,
   "id": "040f29f9",
   "metadata": {},
   "outputs": [
    {
     "data": {
      "text/plain": [
       "9"
      ]
     },
     "execution_count": 99,
     "metadata": {},
     "output_type": "execute_result"
    }
   ],
   "source": [
    "c.counter"
   ]
  },
  {
   "cell_type": "markdown",
   "id": "3ee13424",
   "metadata": {},
   "source": [
    "## map, filter, zip"
   ]
  },
  {
   "cell_type": "code",
   "execution_count": 102,
   "id": "9d3a7108",
   "metadata": {},
   "outputs": [
    {
     "data": {
      "text/plain": [
       "[1, 4, 9, 16, 25]"
      ]
     },
     "execution_count": 102,
     "metadata": {},
     "output_type": "execute_result"
    }
   ],
   "source": [
    "list(map(lambda x: x**2, [1, 2, 3, 4, 5]))"
   ]
  },
  {
   "cell_type": "code",
   "execution_count": null,
   "id": "0202cb31",
   "metadata": {},
   "outputs": [
    {
     "data": {
      "text/plain": [
       "[1, 4, 9, 16, 25]"
      ]
     },
     "execution_count": 114,
     "metadata": {},
     "output_type": "execute_result"
    }
   ],
   "source": [
    "[x**2 for x in [1, 2, 3, 4, 5]]"
   ]
  },
  {
   "cell_type": "code",
   "execution_count": 108,
   "id": "035cccc7",
   "metadata": {},
   "outputs": [
    {
     "data": {
      "text/plain": [
       "[2, 3, 4, 6]"
      ]
     },
     "execution_count": 108,
     "metadata": {},
     "output_type": "execute_result"
    }
   ],
   "source": [
    "list(filter(lambda x: not (x % 2 and x % 3), [1, 2, 3, 4, 5, 6]))"
   ]
  },
  {
   "cell_type": "code",
   "execution_count": 113,
   "id": "085481d5",
   "metadata": {},
   "outputs": [
    {
     "data": {
      "text/plain": [
       "[(1, 5), (2, 6), (3, 7), (4, 8)]"
      ]
     },
     "execution_count": 113,
     "metadata": {},
     "output_type": "execute_result"
    }
   ],
   "source": [
    "list(zip([1, 2, 3, 4], [5, 6, 7, 8]))"
   ]
  },
  {
   "cell_type": "markdown",
   "id": "85e6bed1",
   "metadata": {},
   "source": [
    "#### zip + list comprehension"
   ]
  },
  {
   "cell_type": "code",
   "execution_count": 115,
   "id": "a0d65f95",
   "metadata": {},
   "outputs": [],
   "source": [
    "l1 = [1, 2, 3, 4, 5]\n",
    "l2 = [10, 9, 8, 7, 6]"
   ]
  },
  {
   "cell_type": "code",
   "execution_count": 117,
   "id": "3dbf726c",
   "metadata": {},
   "outputs": [
    {
     "data": {
      "text/plain": [
       "[11, 11, 11, 11, 11]"
      ]
     },
     "execution_count": 117,
     "metadata": {},
     "output_type": "execute_result"
    }
   ],
   "source": [
    "list(map(lambda x, y: x + y, l1, l2))"
   ]
  },
  {
   "cell_type": "code",
   "execution_count": 118,
   "id": "df5c38ce",
   "metadata": {},
   "outputs": [
    {
     "data": {
      "text/plain": [
       "[11, 11, 11, 11, 11]"
      ]
     },
     "execution_count": 118,
     "metadata": {},
     "output_type": "execute_result"
    }
   ],
   "source": [
    "[x + y for x, y in zip(l1, l2)]"
   ]
  },
  {
   "cell_type": "code",
   "execution_count": 119,
   "id": "a3916333",
   "metadata": {},
   "outputs": [],
   "source": [
    "l3 = list(range(1, 11))"
   ]
  },
  {
   "cell_type": "code",
   "execution_count": null,
   "id": "b1c6f9b6",
   "metadata": {},
   "outputs": [
    {
     "data": {
      "text/plain": [
       "[2, 4, 6, 8, 10]"
      ]
     },
     "execution_count": 120,
     "metadata": {},
     "output_type": "execute_result"
    }
   ],
   "source": [
    "list(filter(lambda x: not x % 2, l3))"
   ]
  },
  {
   "cell_type": "code",
   "execution_count": 121,
   "id": "4c0be347",
   "metadata": {},
   "outputs": [
    {
     "data": {
      "text/plain": [
       "[2, 4, 6, 8, 10]"
      ]
     },
     "execution_count": 121,
     "metadata": {},
     "output_type": "execute_result"
    }
   ],
   "source": [
    "[x for x in l3 if not x % 2]"
   ]
  },
  {
   "cell_type": "code",
   "execution_count": 122,
   "id": "f74e51f2",
   "metadata": {},
   "outputs": [
    {
     "data": {
      "text/plain": [
       "[1, 4, 9, 16]"
      ]
     },
     "execution_count": 122,
     "metadata": {},
     "output_type": "execute_result"
    }
   ],
   "source": [
    "[x**2 for x in l3 if x**2 <25]"
   ]
  },
  {
   "cell_type": "code",
   "execution_count": 131,
   "id": "d9ed6892",
   "metadata": {},
   "outputs": [
    {
     "data": {
      "text/plain": [
       "['level', 'radar', 'civic']"
      ]
     },
     "execution_count": 131,
     "metadata": {},
     "output_type": "execute_result"
    }
   ],
   "source": [
    "words = ['level', 'radar', 'world', 'hello', 'civic']\n",
    "\n",
    "list(filter(lambda x: x == x[::-1], words))"
   ]
  },
  {
   "cell_type": "markdown",
   "id": "69a587a4",
   "metadata": {},
   "source": [
    "## Reduce"
   ]
  },
  {
   "cell_type": "code",
   "execution_count": 132,
   "id": "7a445776",
   "metadata": {},
   "outputs": [],
   "source": [
    "l1 = [4, 7, 2, 14, 8, 5]"
   ]
  },
  {
   "cell_type": "code",
   "execution_count": 133,
   "id": "5de0c78f",
   "metadata": {},
   "outputs": [],
   "source": [
    "def _reduce(function, sequence):\n",
    "    result = sequence[0]\n",
    "    for x in sequence[1:]:\n",
    "        result = function(result, x)\n",
    "    return result"
   ]
  },
  {
   "cell_type": "code",
   "execution_count": 134,
   "id": "4108761d",
   "metadata": {},
   "outputs": [
    {
     "data": {
      "text/plain": [
       "14"
      ]
     },
     "execution_count": 134,
     "metadata": {},
     "output_type": "execute_result"
    }
   ],
   "source": [
    "_reduce(lambda x, y: x if x > y else y, l1)"
   ]
  },
  {
   "cell_type": "code",
   "execution_count": 137,
   "id": "cbdbdc39",
   "metadata": {},
   "outputs": [],
   "source": [
    "from functools import reduce"
   ]
  },
  {
   "cell_type": "code",
   "execution_count": 138,
   "id": "146e9552",
   "metadata": {},
   "outputs": [
    {
     "data": {
      "text/plain": [
       "14"
      ]
     },
     "execution_count": 138,
     "metadata": {},
     "output_type": "execute_result"
    }
   ],
   "source": [
    "reduce(lambda x, y: x if x > y else y, l1)"
   ]
  },
  {
   "cell_type": "code",
   "execution_count": 140,
   "id": "08a1d6ea",
   "metadata": {},
   "outputs": [],
   "source": [
    "l = [12, None, 'abc']"
   ]
  },
  {
   "cell_type": "code",
   "execution_count": null,
   "id": "ac444932",
   "metadata": {},
   "outputs": [],
   "source": [
    "def _any(sequence):\n",
    "    return _reduce(lambda x, y: x or y, sequence)"
   ]
  },
  {
   "cell_type": "code",
   "execution_count": null,
   "id": "c976e802",
   "metadata": {},
   "outputs": [
    {
     "data": {
      "text/plain": [
       "12"
      ]
     },
     "execution_count": 141,
     "metadata": {},
     "output_type": "execute_result"
    }
   ],
   "source": [
    "_any(l)"
   ]
  },
  {
   "cell_type": "code",
   "execution_count": 147,
   "id": "f56acf4b",
   "metadata": {},
   "outputs": [],
   "source": [
    "def _all(sequence):\n",
    "    return _reduce(lambda x, y: x and y, sequence)"
   ]
  },
  {
   "cell_type": "code",
   "execution_count": 144,
   "id": "fb473227",
   "metadata": {},
   "outputs": [
    {
     "data": {
      "text/plain": [
       "False"
      ]
     },
     "execution_count": 144,
     "metadata": {},
     "output_type": "execute_result"
    }
   ],
   "source": [
    "bool(_all(l))"
   ]
  },
  {
   "cell_type": "code",
   "execution_count": 155,
   "id": "623f8768",
   "metadata": {},
   "outputs": [],
   "source": [
    "def _product(sequence):\n",
    "    return _reduce(lambda x, y: x * y, sequence)"
   ]
  },
  {
   "cell_type": "code",
   "execution_count": 148,
   "id": "2871ce92",
   "metadata": {},
   "outputs": [
    {
     "data": {
      "text/plain": [
       "31360"
      ]
     },
     "execution_count": 148,
     "metadata": {},
     "output_type": "execute_result"
    }
   ],
   "source": [
    "_product(l1)"
   ]
  },
  {
   "cell_type": "code",
   "execution_count": 153,
   "id": "52e8eee5",
   "metadata": {},
   "outputs": [
    {
     "data": {
      "text/plain": [
       "120"
      ]
     },
     "execution_count": 153,
     "metadata": {},
     "output_type": "execute_result"
    }
   ],
   "source": [
    "_product(range(1, 6))"
   ]
  },
  {
   "cell_type": "code",
   "execution_count": 2,
   "id": "03ed56c1",
   "metadata": {},
   "outputs": [],
   "source": [
    "from functools import partial"
   ]
  },
  {
   "cell_type": "code",
   "execution_count": 4,
   "id": "9274c0ec",
   "metadata": {},
   "outputs": [],
   "source": [
    "def func(a, b, *args, k1, k2, **kwargs):\n",
    "    print(a, b, *args, k1, k2, **kwargs)"
   ]
  },
  {
   "cell_type": "code",
   "execution_count": 5,
   "id": "a11e84c9",
   "metadata": {},
   "outputs": [],
   "source": [
    "f = partial(func, 10, k1='a')"
   ]
  },
  {
   "cell_type": "code",
   "execution_count": 8,
   "id": "26cb83a8",
   "metadata": {},
   "outputs": [
    {
     "name": "stdout",
     "output_type": "stream",
     "text": [
      "10 20 a b\n"
     ]
    }
   ],
   "source": [
    "f(20, k2='b')"
   ]
  },
  {
   "cell_type": "code",
   "execution_count": 16,
   "id": "7dbcdffe",
   "metadata": {},
   "outputs": [],
   "source": [
    "def _pow(base, exponent):\n",
    "    return base ** exponent"
   ]
  },
  {
   "cell_type": "code",
   "execution_count": 21,
   "id": "ec4a79f3",
   "metadata": {},
   "outputs": [],
   "source": [
    "sq = partial(_pow, exponent=2)"
   ]
  },
  {
   "cell_type": "code",
   "execution_count": 19,
   "id": "572fba5b",
   "metadata": {},
   "outputs": [],
   "source": [
    "cub = partial(_pow, exponent=3)"
   ]
  },
  {
   "cell_type": "code",
   "execution_count": 23,
   "id": "ccb2593b",
   "metadata": {},
   "outputs": [
    {
     "data": {
      "text/plain": [
       "625"
      ]
     },
     "execution_count": 23,
     "metadata": {},
     "output_type": "execute_result"
    }
   ],
   "source": [
    "sq(25)"
   ]
  },
  {
   "cell_type": "code",
   "execution_count": 20,
   "id": "3e01b9de",
   "metadata": {},
   "outputs": [
    {
     "data": {
      "text/plain": [
       "1728"
      ]
     },
     "execution_count": 20,
     "metadata": {},
     "output_type": "execute_result"
    }
   ],
   "source": [
    "cub(12)"
   ]
  },
  {
   "cell_type": "code",
   "execution_count": 24,
   "id": "7ca147f0",
   "metadata": {},
   "outputs": [],
   "source": [
    "origin = (0, 0)\n",
    "l = [(1, 1), (3, 0), (2, 1), (-2, 4), (1, -3)]"
   ]
  },
  {
   "cell_type": "code",
   "execution_count": 25,
   "id": "d2c300a9",
   "metadata": {},
   "outputs": [],
   "source": [
    "from math import sqrt"
   ]
  },
  {
   "cell_type": "code",
   "execution_count": 26,
   "id": "08bbd5a7",
   "metadata": {},
   "outputs": [],
   "source": [
    "distance_2_points = lambda a, b: sqrt((a[0] - b[0])**2 + (a[1] - b[1])**2)"
   ]
  },
  {
   "cell_type": "code",
   "execution_count": 28,
   "id": "49149cd7",
   "metadata": {},
   "outputs": [],
   "source": [
    "distance_origin = partial(distance_2_points, origin)"
   ]
  },
  {
   "cell_type": "code",
   "execution_count": 29,
   "id": "d62b18dc",
   "metadata": {},
   "outputs": [
    {
     "data": {
      "text/plain": [
       "[(1, 1), (2, 1), (3, 0), (1, -3), (-2, 4)]"
      ]
     },
     "execution_count": 29,
     "metadata": {},
     "output_type": "execute_result"
    }
   ],
   "source": [
    "sorted(l, key=distance_origin)"
   ]
  },
  {
   "cell_type": "markdown",
   "id": "00c614d3",
   "metadata": {},
   "source": [
    "## Operator module"
   ]
  },
  {
   "cell_type": "markdown",
   "id": "72263702",
   "metadata": {},
   "source": [
    "### The convenience module"
   ]
  },
  {
   "cell_type": "code",
   "execution_count": 32,
   "id": "7d5932fb",
   "metadata": {},
   "outputs": [],
   "source": [
    "import operator\n",
    "\n",
    "a = 1\n",
    "b = 10"
   ]
  },
  {
   "cell_type": "markdown",
   "id": "2c3a393b",
   "metadata": {},
   "source": [
    "##### Arithmetic"
   ]
  },
  {
   "cell_type": "code",
   "execution_count": null,
   "id": "a97f3fb8",
   "metadata": {},
   "outputs": [
    {
     "data": {
      "text/plain": [
       "-1"
      ]
     },
     "execution_count": 33,
     "metadata": {},
     "output_type": "execute_result"
    }
   ],
   "source": [
    "operator.add(a, b)          # a + b\n",
    "operator.mul(a, b)          # a * b\n",
    "operator.pow(a, b)          # a**b\n",
    "operator.mod(a, b)          # a % b\n",
    "operator.floordiv(a, b)     # a // b\n",
    "operator.neg(a)             # -a"
   ]
  },
  {
   "cell_type": "markdown",
   "id": "6eea8f58",
   "metadata": {},
   "source": [
    "##### Comparison and Boolean"
   ]
  },
  {
   "cell_type": "code",
   "execution_count": null,
   "id": "511c4535",
   "metadata": {},
   "outputs": [
    {
     "data": {
      "text/plain": [
       "False"
      ]
     },
     "execution_count": 35,
     "metadata": {},
     "output_type": "execute_result"
    }
   ],
   "source": [
    "operator.lt(a, b)           # a < b\n",
    "operator.le(a, b)           # a <= b\n",
    "operator.gt(a, b)           # a > b\n",
    "operator.ge(a, b)           # a >= b\n",
    "operator.eq(a, b)           # a == b\n",
    "operator.ne(a, b)           # a != b\n",
    "operator.is_(a, b)          # a is b\n",
    "operator.is_not(a, b)       # a is not b\n",
    "operator.and_(a, b)         # a and b\n",
    "operator.or_(a, b)          # a or b\n",
    "operator.not_(a)            # not a"
   ]
  },
  {
   "cell_type": "markdown",
   "id": "1ed943a7",
   "metadata": {},
   "source": [
    "##### Sequence & Mapping"
   ]
  },
  {
   "cell_type": "code",
   "execution_count": 37,
   "id": "18ea8bc8",
   "metadata": {},
   "outputs": [],
   "source": [
    "from typing import Any\n",
    "from typing import Sequence"
   ]
  },
  {
   "cell_type": "code",
   "execution_count": null,
   "id": "88c6436c",
   "metadata": {},
   "outputs": [],
   "source": [
    "s1: Sequence[Any]\n",
    "s2: Sequence[Any]\n",
    "val: Any\n",
    "i: int"
   ]
  },
  {
   "cell_type": "code",
   "execution_count": null,
   "id": "147dac9b",
   "metadata": {},
   "outputs": [],
   "source": [
    "operator.concat(s1, s2)\n",
    "operator.contains(s1, val)\n",
    "operator.countOf(s1, val)\n",
    "operator.getitem(s1, i)\n",
    "operator.setitem(s1, i, val)\n",
    "operator.delitem(s1, i)"
   ]
  },
  {
   "cell_type": "markdown",
   "id": "85d2de0e",
   "metadata": {},
   "source": [
    "`itemgetter` - basically a partial for getitem function, with support for getting multiple entries at a time."
   ]
  },
  {
   "cell_type": "code",
   "execution_count": 46,
   "id": "2f68eb60",
   "metadata": {},
   "outputs": [
    {
     "name": "stdout",
     "output_type": "stream",
     "text": [
      "(1, 3) ('a', 'c')\n",
      "IndexError occurs\n"
     ]
    }
   ],
   "source": [
    "s3 = [1, 2, 3]\n",
    "s4 = 'abc'\n",
    "s5 = [5]\n",
    "\n",
    "f = operator.itemgetter(0, 2)\n",
    "\n",
    "print(f(s3), f(s4))\n",
    "\n",
    "try:\n",
    "    f(s5)\n",
    "except IndexError:\n",
    "    print(\"IndexError occurs\")"
   ]
  },
  {
   "cell_type": "markdown",
   "id": "2c414968",
   "metadata": {},
   "source": [
    "`attrgetter` - same thing for attributes"
   ]
  },
  {
   "cell_type": "code",
   "execution_count": null,
   "id": "c4e61be2",
   "metadata": {},
   "outputs": [
    {
     "name": "stdout",
     "output_type": "stream",
     "text": [
      "('int', \"int([x]) -> integer\\nint(x, base=10) -> integer\\n\\nConvert a number or string to an integer, or return 0 if no arguments\\nare given.  If x is a number, return x.__int__().  For floating point\\nnumbers, this truncates towards zero.\\n\\nIf x is not a number or if base is given, then x must be a string,\\nbytes, or bytearray instance representing an integer literal in the\\ngiven base.  The literal can be preceded by '+' or '-' and be surrounded\\nby whitespace.  The base defaults to 10.  Valid bases are 0 and 2-36.\\nBase 0 means to interpret the base from the string as an integer literal.\\n>>> int('0b100', base=0)\\n4\")\n",
      "('str', \"str(object='') -> str\\nstr(bytes_or_buffer[, encoding[, errors]]) -> str\\n\\nCreate a new string object from the given object. If encoding or\\nerrors is specified, then the object must expose a data buffer\\nthat will be decoded using the given encoding and error handler.\\nOtherwise, returns the result of object.__str__() (if defined)\\nor repr(object).\\nencoding defaults to sys.getdefaultencoding().\\nerrors defaults to 'strict'.\")\n"
     ]
    },
    {
     "data": {
      "text/plain": [
       "'ABC'"
      ]
     },
     "execution_count": 54,
     "metadata": {},
     "output_type": "execute_result"
    }
   ],
   "source": [
    "f1 = operator.attrgetter('__name__', '__doc__')\n",
    "\n",
    "print(f1(int))\n",
    "print(f1(str))\n",
    "\n",
    "f2 = operator.attrgetter('upper')\n",
    "\n",
    "f2('abc')()"
   ]
  },
  {
   "cell_type": "markdown",
   "id": "20ddf923",
   "metadata": {},
   "source": [
    "`methodcaller` - simpler variant for calling methods, instead of calling through `attrgetter`"
   ]
  },
  {
   "cell_type": "code",
   "execution_count": null,
   "id": "7791751f",
   "metadata": {},
   "outputs": [
    {
     "data": {
      "text/plain": [
       "'ABC'"
      ]
     },
     "execution_count": 55,
     "metadata": {},
     "output_type": "execute_result"
    }
   ],
   "source": [
    "operator.methodcaller('upper')('abc')"
   ]
  },
  {
   "cell_type": "code",
   "execution_count": 60,
   "id": "ee01818d",
   "metadata": {},
   "outputs": [],
   "source": [
    "class MyClass:\n",
    "    def __init__(self):\n",
    "        self.a = 10\n",
    "        self.b = 20\n",
    "\n",
    "    def test(self, c, d, *, e):\n",
    "        print(self.a, self.b, c, d, e)"
   ]
  },
  {
   "cell_type": "code",
   "execution_count": 61,
   "id": "77b01567",
   "metadata": {},
   "outputs": [],
   "source": [
    "obj = MyClass()"
   ]
  },
  {
   "cell_type": "code",
   "execution_count": 62,
   "id": "45e75f6b",
   "metadata": {},
   "outputs": [],
   "source": [
    "test_func = operator.methodcaller('test', 30, 40, e=50)"
   ]
  },
  {
   "cell_type": "code",
   "execution_count": 63,
   "id": "24ee337f",
   "metadata": {},
   "outputs": [
    {
     "name": "stdout",
     "output_type": "stream",
     "text": [
      "10 20 30 40 50\n"
     ]
    }
   ],
   "source": [
    "test_func(obj)"
   ]
  }
 ],
 "metadata": {
  "kernelspec": {
   "display_name": ".venv",
   "language": "python",
   "name": "python3"
  },
  "language_info": {
   "codemirror_mode": {
    "name": "ipython",
    "version": 3
   },
   "file_extension": ".py",
   "mimetype": "text/x-python",
   "name": "python",
   "nbconvert_exporter": "python",
   "pygments_lexer": "ipython3",
   "version": "3.11.0"
  }
 },
 "nbformat": 4,
 "nbformat_minor": 5
}
