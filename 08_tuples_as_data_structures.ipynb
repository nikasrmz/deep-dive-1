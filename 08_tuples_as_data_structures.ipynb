{
 "cells": [
  {
   "cell_type": "markdown",
   "id": "3e669edc",
   "metadata": {},
   "source": [
    "## Tuples"
   ]
  },
  {
   "cell_type": "code",
   "execution_count": 5,
   "id": "fd0a906f",
   "metadata": {},
   "outputs": [],
   "source": [
    "ny = 'New_york', 'USA', '8500000'"
   ]
  },
  {
   "cell_type": "code",
   "execution_count": 6,
   "id": "13cd39da",
   "metadata": {},
   "outputs": [],
   "source": [
    "city, country, pop = ny"
   ]
  },
  {
   "cell_type": "code",
   "execution_count": 7,
   "id": "2ac94d0b",
   "metadata": {},
   "outputs": [
    {
     "name": "stdout",
     "output_type": "stream",
     "text": [
      "New_york USA 8500000\n"
     ]
    }
   ],
   "source": [
    "print(city, country, pop)"
   ]
  },
  {
   "cell_type": "code",
   "execution_count": 10,
   "id": "0fa22929",
   "metadata": {},
   "outputs": [],
   "source": [
    "*_, pop = ny"
   ]
  },
  {
   "cell_type": "code",
   "execution_count": 12,
   "id": "86755b3e",
   "metadata": {},
   "outputs": [
    {
     "data": {
      "text/plain": [
       "['New_york', 'USA']"
      ]
     },
     "execution_count": 12,
     "metadata": {},
     "output_type": "execute_result"
    }
   ],
   "source": [
    "_"
   ]
  },
  {
   "cell_type": "code",
   "execution_count": 4,
   "id": "1655e7e1",
   "metadata": {},
   "outputs": [],
   "source": [
    "from random import uniform\n",
    "from math import sqrt"
   ]
  },
  {
   "cell_type": "code",
   "execution_count": null,
   "id": "150e1a92",
   "metadata": {},
   "outputs": [],
   "source": [
    "def random_shot(radius: int):\n",
    "    rand_x = uniform(-radius, radius)\n",
    "    rand_y = uniform(-radius, radius)\n",
    "    return True if sqrt(rand_x ** 2 + rand_y ** 2) < radius else False"
   ]
  },
  {
   "cell_type": "code",
   "execution_count": 13,
   "id": "96a612f5",
   "metadata": {},
   "outputs": [],
   "source": [
    "def pi_counter(iter: int):\n",
    "    count = 0\n",
    "    for i in range(iter):\n",
    "        count += random_shot(10)\n",
    "    return 4 * (count / iter)"
   ]
  },
  {
   "cell_type": "code",
   "execution_count": 19,
   "id": "a6f7a631",
   "metadata": {},
   "outputs": [
    {
     "data": {
      "text/plain": [
       "3.1412968"
      ]
     },
     "execution_count": 19,
     "metadata": {},
     "output_type": "execute_result"
    }
   ],
   "source": [
    "pi_counter(30000000)"
   ]
  },
  {
   "cell_type": "code",
   "execution_count": null,
   "id": "3242ab8e",
   "metadata": {},
   "outputs": [],
   "source": []
  }
 ],
 "metadata": {
  "kernelspec": {
   "display_name": "Python 3",
   "language": "python",
   "name": "python3"
  },
  "language_info": {
   "codemirror_mode": {
    "name": "ipython",
    "version": 3
   },
   "file_extension": ".py",
   "mimetype": "text/x-python",
   "name": "python",
   "nbconvert_exporter": "python",
   "pygments_lexer": "ipython3",
   "version": "3.12.11"
  }
 },
 "nbformat": 4,
 "nbformat_minor": 5
}
