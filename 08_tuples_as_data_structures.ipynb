{
 "cells": [
  {
   "cell_type": "markdown",
   "id": "3e669edc",
   "metadata": {},
   "source": [
    "## Tuples"
   ]
  },
  {
   "cell_type": "code",
   "execution_count": 5,
   "id": "fd0a906f",
   "metadata": {},
   "outputs": [],
   "source": [
    "ny = 'New_york', 'USA', '8500000'"
   ]
  },
  {
   "cell_type": "code",
   "execution_count": 6,
   "id": "13cd39da",
   "metadata": {},
   "outputs": [],
   "source": [
    "city, country, pop = ny"
   ]
  },
  {
   "cell_type": "code",
   "execution_count": 7,
   "id": "2ac94d0b",
   "metadata": {},
   "outputs": [
    {
     "name": "stdout",
     "output_type": "stream",
     "text": [
      "New_york USA 8500000\n"
     ]
    }
   ],
   "source": [
    "print(city, country, pop)"
   ]
  },
  {
   "cell_type": "code",
   "execution_count": 10,
   "id": "0fa22929",
   "metadata": {},
   "outputs": [],
   "source": [
    "*_, pop = ny"
   ]
  },
  {
   "cell_type": "code",
   "execution_count": 12,
   "id": "86755b3e",
   "metadata": {},
   "outputs": [
    {
     "data": {
      "text/plain": [
       "['New_york', 'USA']"
      ]
     },
     "execution_count": 12,
     "metadata": {},
     "output_type": "execute_result"
    }
   ],
   "source": [
    "_"
   ]
  },
  {
   "cell_type": "code",
   "execution_count": 6,
   "id": "1655e7e1",
   "metadata": {},
   "outputs": [],
   "source": [
    "from random import uniform\n",
    "from math import sqrt"
   ]
  },
  {
   "cell_type": "code",
   "execution_count": 4,
   "id": "150e1a92",
   "metadata": {},
   "outputs": [],
   "source": [
    "def random_shot(radius: int):\n",
    "    rand_x = uniform(-radius, radius)\n",
    "    rand_y = uniform(-radius, radius)\n",
    "    return True if sqrt(rand_x ** 2 + rand_y ** 2) < radius else False"
   ]
  },
  {
   "cell_type": "code",
   "execution_count": 2,
   "id": "96a612f5",
   "metadata": {},
   "outputs": [],
   "source": [
    "def pi_counter(iter: int):\n",
    "    count = 0\n",
    "    for i in range(iter):\n",
    "        count += random_shot(10)\n",
    "    return 4 * (count / iter)"
   ]
  },
  {
   "cell_type": "code",
   "execution_count": 7,
   "id": "a6f7a631",
   "metadata": {},
   "outputs": [
    {
     "data": {
      "text/plain": [
       "3.1417586666666666"
      ]
     },
     "execution_count": 7,
     "metadata": {},
     "output_type": "execute_result"
    }
   ],
   "source": [
    "pi_counter(3000000)"
   ]
  },
  {
   "cell_type": "code",
   "execution_count": 8,
   "id": "3242ab8e",
   "metadata": {},
   "outputs": [],
   "source": [
    "from collections import namedtuple"
   ]
  },
  {
   "cell_type": "code",
   "execution_count": 9,
   "id": "2e80758e",
   "metadata": {},
   "outputs": [],
   "source": [
    "Point = namedtuple('Point', ['x', 'y'])"
   ]
  },
  {
   "cell_type": "code",
   "execution_count": 10,
   "id": "96d42726",
   "metadata": {},
   "outputs": [],
   "source": [
    "a = Point(2, 2)"
   ]
  },
  {
   "cell_type": "code",
   "execution_count": 14,
   "id": "16c6dd17",
   "metadata": {},
   "outputs": [
    {
     "data": {
      "text/plain": [
       "Point(x=2, y=2)"
      ]
     },
     "execution_count": 14,
     "metadata": {},
     "output_type": "execute_result"
    }
   ],
   "source": [
    "a"
   ]
  },
  {
   "cell_type": "code",
   "execution_count": 13,
   "id": "8ac77c6c",
   "metadata": {},
   "outputs": [
    {
     "data": {
      "text/plain": [
       "True"
      ]
     },
     "execution_count": 13,
     "metadata": {},
     "output_type": "execute_result"
    }
   ],
   "source": [
    "isinstance(a, tuple)"
   ]
  },
  {
   "cell_type": "code",
   "execution_count": 15,
   "id": "7ba6f3a1",
   "metadata": {},
   "outputs": [],
   "source": [
    "Circle = namedtuple('Circle', ('center_x', 'center_y', 'radius'))"
   ]
  },
  {
   "cell_type": "code",
   "execution_count": 16,
   "id": "452500e3",
   "metadata": {},
   "outputs": [],
   "source": [
    "c1 = Circle(0, 0, 10)"
   ]
  },
  {
   "cell_type": "code",
   "execution_count": 18,
   "id": "4557dad6",
   "metadata": {},
   "outputs": [
    {
     "data": {
      "text/plain": [
       "('center_x', 'center_y', 'radius')"
      ]
     },
     "execution_count": 18,
     "metadata": {},
     "output_type": "execute_result"
    }
   ],
   "source": [
    "Circle._fields"
   ]
  },
  {
   "cell_type": "code",
   "execution_count": 27,
   "id": "0560df89",
   "metadata": {},
   "outputs": [
    {
     "data": {
      "text/plain": [
       "{'center_x': 0, 'center_y': 0, 'radius': 10}"
      ]
     },
     "execution_count": 27,
     "metadata": {},
     "output_type": "execute_result"
    }
   ],
   "source": [
    "c1._asdict()"
   ]
  },
  {
   "cell_type": "code",
   "execution_count": 32,
   "id": "851699ed",
   "metadata": {},
   "outputs": [],
   "source": [
    "a = (1,)"
   ]
  },
  {
   "cell_type": "code",
   "execution_count": 33,
   "id": "196afa42",
   "metadata": {},
   "outputs": [
    {
     "data": {
      "text/plain": [
       "(1,)"
      ]
     },
     "execution_count": 33,
     "metadata": {},
     "output_type": "execute_result"
    }
   ],
   "source": [
    "a"
   ]
  },
  {
   "cell_type": "code",
   "execution_count": 34,
   "id": "3dedad77",
   "metadata": {},
   "outputs": [],
   "source": [
    "Stock = namedtuple('Stock', 'symbol year month day open high low close')"
   ]
  },
  {
   "cell_type": "code",
   "execution_count": 35,
   "id": "74cc83f7",
   "metadata": {},
   "outputs": [],
   "source": [
    "djia = Stock('DJIA', 2018, 1, 25, 26_313, 26_459, 26_254, 26_340)"
   ]
  },
  {
   "cell_type": "code",
   "execution_count": 37,
   "id": "f28710b1",
   "metadata": {},
   "outputs": [
    {
     "data": {
      "text/plain": [
       "2193784111280"
      ]
     },
     "execution_count": 37,
     "metadata": {},
     "output_type": "execute_result"
    }
   ],
   "source": [
    "id(djia)"
   ]
  },
  {
   "cell_type": "code",
   "execution_count": 38,
   "id": "8a767f31",
   "metadata": {},
   "outputs": [],
   "source": [
    "djia = djia._replace(close=26_355)"
   ]
  },
  {
   "cell_type": "code",
   "execution_count": 39,
   "id": "cfe40032",
   "metadata": {},
   "outputs": [
    {
     "data": {
      "text/plain": [
       "2193784120576"
      ]
     },
     "execution_count": 39,
     "metadata": {},
     "output_type": "execute_result"
    }
   ],
   "source": [
    "id(djia)"
   ]
  },
  {
   "cell_type": "code",
   "execution_count": 40,
   "id": "080126a1",
   "metadata": {},
   "outputs": [
    {
     "data": {
      "text/plain": [
       "Stock(symbol='DJIA', year=2018, month=1, day=25, open=26313, high=26459, low=26254, close=26355)"
      ]
     },
     "execution_count": 40,
     "metadata": {},
     "output_type": "execute_result"
    }
   ],
   "source": [
    "djia"
   ]
  },
  {
   "cell_type": "code",
   "execution_count": 41,
   "id": "d05f91cf",
   "metadata": {},
   "outputs": [],
   "source": [
    "djia = djia._make(djia[:7] + (26_365,))"
   ]
  },
  {
   "cell_type": "code",
   "execution_count": 42,
   "id": "6b485375",
   "metadata": {},
   "outputs": [
    {
     "data": {
      "text/plain": [
       "2193784126064"
      ]
     },
     "execution_count": 42,
     "metadata": {},
     "output_type": "execute_result"
    }
   ],
   "source": [
    "id(djia)"
   ]
  },
  {
   "cell_type": "code",
   "execution_count": 43,
   "id": "08270bd8",
   "metadata": {},
   "outputs": [
    {
     "data": {
      "text/plain": [
       "Stock(symbol='DJIA', year=2018, month=1, day=25, open=26313, high=26459, low=26254, close=26365)"
      ]
     },
     "execution_count": 43,
     "metadata": {},
     "output_type": "execute_result"
    }
   ],
   "source": [
    "djia"
   ]
  },
  {
   "cell_type": "code",
   "execution_count": 44,
   "id": "4802e62f",
   "metadata": {},
   "outputs": [],
   "source": [
    "StockWithPrevClose = namedtuple('StockWithPrevClose', Stock._fields + ('prev_close',))"
   ]
  },
  {
   "cell_type": "code",
   "execution_count": 46,
   "id": "642da5e6",
   "metadata": {},
   "outputs": [],
   "source": [
    "\n",
    "djia_ext = StockWithPrevClose(*djia, 26_349)"
   ]
  },
  {
   "cell_type": "code",
   "execution_count": 47,
   "id": "99b5dac3",
   "metadata": {},
   "outputs": [
    {
     "data": {
      "text/plain": [
       "StockWithPrevClose(symbol='DJIA', year=2018, month=1, day=25, open=26313, high=26459, low=26254, close=26365, prev_close=26349)"
      ]
     },
     "execution_count": 47,
     "metadata": {},
     "output_type": "execute_result"
    }
   ],
   "source": [
    "djia_ext"
   ]
  },
  {
   "cell_type": "code",
   "execution_count": null,
   "id": "92b18a53",
   "metadata": {},
   "outputs": [],
   "source": []
  }
 ],
 "metadata": {
  "kernelspec": {
   "display_name": "Python 3",
   "language": "python",
   "name": "python3"
  },
  "language_info": {
   "codemirror_mode": {
    "name": "ipython",
    "version": 3
   },
   "file_extension": ".py",
   "mimetype": "text/x-python",
   "name": "python",
   "nbconvert_exporter": "python",
   "pygments_lexer": "ipython3",
   "version": "3.12.11"
  }
 },
 "nbformat": 4,
 "nbformat_minor": 5
}
