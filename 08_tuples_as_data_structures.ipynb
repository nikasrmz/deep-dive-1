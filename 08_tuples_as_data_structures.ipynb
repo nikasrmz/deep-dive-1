{
 "cells": [
  {
   "cell_type": "markdown",
   "id": "3e669edc",
   "metadata": {},
   "source": [
    "## Tuples"
   ]
  },
  {
   "cell_type": "code",
   "execution_count": 5,
   "id": "fd0a906f",
   "metadata": {},
   "outputs": [],
   "source": [
    "ny = 'New_york', 'USA', '8500000'"
   ]
  },
  {
   "cell_type": "code",
   "execution_count": 6,
   "id": "13cd39da",
   "metadata": {},
   "outputs": [],
   "source": [
    "city, country, pop = ny"
   ]
  },
  {
   "cell_type": "code",
   "execution_count": 7,
   "id": "2ac94d0b",
   "metadata": {},
   "outputs": [
    {
     "name": "stdout",
     "output_type": "stream",
     "text": [
      "New_york USA 8500000\n"
     ]
    }
   ],
   "source": [
    "print(city, country, pop)"
   ]
  },
  {
   "cell_type": "code",
   "execution_count": 10,
   "id": "0fa22929",
   "metadata": {},
   "outputs": [],
   "source": [
    "*_, pop = ny"
   ]
  },
  {
   "cell_type": "code",
   "execution_count": 12,
   "id": "86755b3e",
   "metadata": {},
   "outputs": [
    {
     "data": {
      "text/plain": [
       "['New_york', 'USA']"
      ]
     },
     "execution_count": 12,
     "metadata": {},
     "output_type": "execute_result"
    }
   ],
   "source": [
    "_"
   ]
  },
  {
   "cell_type": "code",
   "execution_count": 6,
   "id": "1655e7e1",
   "metadata": {},
   "outputs": [],
   "source": [
    "from random import uniform\n",
    "from math import sqrt"
   ]
  },
  {
   "cell_type": "code",
   "execution_count": 4,
   "id": "150e1a92",
   "metadata": {},
   "outputs": [],
   "source": [
    "def random_shot(radius: int):\n",
    "    rand_x = uniform(-radius, radius)\n",
    "    rand_y = uniform(-radius, radius)\n",
    "    return True if sqrt(rand_x ** 2 + rand_y ** 2) < radius else False"
   ]
  },
  {
   "cell_type": "code",
   "execution_count": 2,
   "id": "96a612f5",
   "metadata": {},
   "outputs": [],
   "source": [
    "def pi_counter(iter: int):\n",
    "    count = 0\n",
    "    for i in range(iter):\n",
    "        count += random_shot(10)\n",
    "    return 4 * (count / iter)"
   ]
  },
  {
   "cell_type": "code",
   "execution_count": 7,
   "id": "a6f7a631",
   "metadata": {},
   "outputs": [
    {
     "data": {
      "text/plain": [
       "3.1417586666666666"
      ]
     },
     "execution_count": 7,
     "metadata": {},
     "output_type": "execute_result"
    }
   ],
   "source": [
    "pi_counter(3000000)"
   ]
  },
  {
   "cell_type": "code",
   "execution_count": 8,
   "id": "3242ab8e",
   "metadata": {},
   "outputs": [],
   "source": [
    "from collections import namedtuple"
   ]
  },
  {
   "cell_type": "code",
   "execution_count": 9,
   "id": "2e80758e",
   "metadata": {},
   "outputs": [],
   "source": [
    "Point = namedtuple('Point', ['x', 'y'])"
   ]
  },
  {
   "cell_type": "code",
   "execution_count": 10,
   "id": "96d42726",
   "metadata": {},
   "outputs": [],
   "source": [
    "a = Point(2, 2)"
   ]
  },
  {
   "cell_type": "code",
   "execution_count": 14,
   "id": "16c6dd17",
   "metadata": {},
   "outputs": [
    {
     "data": {
      "text/plain": [
       "Point(x=2, y=2)"
      ]
     },
     "execution_count": 14,
     "metadata": {},
     "output_type": "execute_result"
    }
   ],
   "source": [
    "a"
   ]
  },
  {
   "cell_type": "code",
   "execution_count": 13,
   "id": "8ac77c6c",
   "metadata": {},
   "outputs": [
    {
     "data": {
      "text/plain": [
       "True"
      ]
     },
     "execution_count": 13,
     "metadata": {},
     "output_type": "execute_result"
    }
   ],
   "source": [
    "isinstance(a, tuple)"
   ]
  },
  {
   "cell_type": "code",
   "execution_count": 15,
   "id": "7ba6f3a1",
   "metadata": {},
   "outputs": [],
   "source": [
    "Circle = namedtuple('Circle', ('center_x', 'center_y', 'radius'))"
   ]
  },
  {
   "cell_type": "code",
   "execution_count": 16,
   "id": "452500e3",
   "metadata": {},
   "outputs": [],
   "source": [
    "c1 = Circle(0, 0, 10)"
   ]
  },
  {
   "cell_type": "code",
   "execution_count": 18,
   "id": "4557dad6",
   "metadata": {},
   "outputs": [
    {
     "data": {
      "text/plain": [
       "('center_x', 'center_y', 'radius')"
      ]
     },
     "execution_count": 18,
     "metadata": {},
     "output_type": "execute_result"
    }
   ],
   "source": [
    "Circle._fields"
   ]
  },
  {
   "cell_type": "code",
   "execution_count": 27,
   "id": "0560df89",
   "metadata": {},
   "outputs": [
    {
     "data": {
      "text/plain": [
       "{'center_x': 0, 'center_y': 0, 'radius': 10}"
      ]
     },
     "execution_count": 27,
     "metadata": {},
     "output_type": "execute_result"
    }
   ],
   "source": [
    "c1._asdict()"
   ]
  },
  {
   "cell_type": "code",
   "execution_count": 32,
   "id": "851699ed",
   "metadata": {},
   "outputs": [],
   "source": [
    "a = (1,)"
   ]
  },
  {
   "cell_type": "code",
   "execution_count": 33,
   "id": "196afa42",
   "metadata": {},
   "outputs": [
    {
     "data": {
      "text/plain": [
       "(1,)"
      ]
     },
     "execution_count": 33,
     "metadata": {},
     "output_type": "execute_result"
    }
   ],
   "source": [
    "a"
   ]
  },
  {
   "cell_type": "code",
   "execution_count": 34,
   "id": "3dedad77",
   "metadata": {},
   "outputs": [],
   "source": [
    "Stock = namedtuple('Stock', 'symbol year month day open high low close')"
   ]
  },
  {
   "cell_type": "code",
   "execution_count": 35,
   "id": "74cc83f7",
   "metadata": {},
   "outputs": [],
   "source": [
    "djia = Stock('DJIA', 2018, 1, 25, 26_313, 26_459, 26_254, 26_340)"
   ]
  },
  {
   "cell_type": "code",
   "execution_count": 37,
   "id": "f28710b1",
   "metadata": {},
   "outputs": [
    {
     "data": {
      "text/plain": [
       "2193784111280"
      ]
     },
     "execution_count": 37,
     "metadata": {},
     "output_type": "execute_result"
    }
   ],
   "source": [
    "id(djia)"
   ]
  },
  {
   "cell_type": "code",
   "execution_count": 38,
   "id": "8a767f31",
   "metadata": {},
   "outputs": [],
   "source": [
    "djia = djia._replace(close=26_355)"
   ]
  },
  {
   "cell_type": "code",
   "execution_count": 39,
   "id": "cfe40032",
   "metadata": {},
   "outputs": [
    {
     "data": {
      "text/plain": [
       "2193784120576"
      ]
     },
     "execution_count": 39,
     "metadata": {},
     "output_type": "execute_result"
    }
   ],
   "source": [
    "id(djia)"
   ]
  },
  {
   "cell_type": "code",
   "execution_count": 40,
   "id": "080126a1",
   "metadata": {},
   "outputs": [
    {
     "data": {
      "text/plain": [
       "Stock(symbol='DJIA', year=2018, month=1, day=25, open=26313, high=26459, low=26254, close=26355)"
      ]
     },
     "execution_count": 40,
     "metadata": {},
     "output_type": "execute_result"
    }
   ],
   "source": [
    "djia"
   ]
  },
  {
   "cell_type": "code",
   "execution_count": 41,
   "id": "d05f91cf",
   "metadata": {},
   "outputs": [],
   "source": [
    "djia = djia._make(djia[:7] + (26_365,))"
   ]
  },
  {
   "cell_type": "code",
   "execution_count": 42,
   "id": "6b485375",
   "metadata": {},
   "outputs": [
    {
     "data": {
      "text/plain": [
       "2193784126064"
      ]
     },
     "execution_count": 42,
     "metadata": {},
     "output_type": "execute_result"
    }
   ],
   "source": [
    "id(djia)"
   ]
  },
  {
   "cell_type": "code",
   "execution_count": 43,
   "id": "08270bd8",
   "metadata": {},
   "outputs": [
    {
     "data": {
      "text/plain": [
       "Stock(symbol='DJIA', year=2018, month=1, day=25, open=26313, high=26459, low=26254, close=26365)"
      ]
     },
     "execution_count": 43,
     "metadata": {},
     "output_type": "execute_result"
    }
   ],
   "source": [
    "djia"
   ]
  },
  {
   "cell_type": "code",
   "execution_count": 44,
   "id": "4802e62f",
   "metadata": {},
   "outputs": [],
   "source": [
    "StockWithPrevClose = namedtuple('StockWithPrevClose', Stock._fields + ('prev_close',))"
   ]
  },
  {
   "cell_type": "code",
   "execution_count": 46,
   "id": "642da5e6",
   "metadata": {},
   "outputs": [],
   "source": [
    "\n",
    "djia_ext = StockWithPrevClose(*djia, 26_349)"
   ]
  },
  {
   "cell_type": "code",
   "execution_count": 47,
   "id": "99b5dac3",
   "metadata": {},
   "outputs": [
    {
     "data": {
      "text/plain": [
       "StockWithPrevClose(symbol='DJIA', year=2018, month=1, day=25, open=26313, high=26459, low=26254, close=26365, prev_close=26349)"
      ]
     },
     "execution_count": 47,
     "metadata": {},
     "output_type": "execute_result"
    }
   ],
   "source": [
    "djia_ext"
   ]
  },
  {
   "cell_type": "code",
   "execution_count": 3,
   "id": "92b18a53",
   "metadata": {},
   "outputs": [],
   "source": [
    "from collections import namedtuple"
   ]
  },
  {
   "cell_type": "code",
   "execution_count": null,
   "id": "7d7ce839",
   "metadata": {},
   "outputs": [],
   "source": [
    "Point2D = namedtuple(\"Point2D\", \"x y\")"
   ]
  },
  {
   "cell_type": "code",
   "execution_count": 3,
   "id": "c2fecbea",
   "metadata": {},
   "outputs": [
    {
     "name": "stdout",
     "output_type": "stream",
     "text": [
      "Help on class Point2D in module __main__:\n",
      "\n",
      "class Point2D(builtins.tuple)\n",
      " |  Point2D(x, y)\n",
      " |\n",
      " |  Point2D(x, y)\n",
      " |\n",
      " |  Method resolution order:\n",
      " |      Point2D\n",
      " |      builtins.tuple\n",
      " |      builtins.object\n",
      " |\n",
      " |  Methods defined here:\n",
      " |\n",
      " |  __getnewargs__(self) from collections.Point2D\n",
      " |      Return self as a plain tuple.  Used by copy and pickle.\n",
      " |\n",
      " |  __repr__(self) from collections.Point2D\n",
      " |      Return a nicely formatted representation string\n",
      " |\n",
      " |  _asdict(self) from collections.Point2D\n",
      " |      Return a new dict which maps field names to their values.\n",
      " |\n",
      " |  _replace(self, /, **kwds) from collections.Point2D\n",
      " |      Return a new Point2D object replacing specified fields with new values\n",
      " |\n",
      " |  ----------------------------------------------------------------------\n",
      " |  Class methods defined here:\n",
      " |\n",
      " |  _make(iterable) from collections.Point2D\n",
      " |      Make a new Point2D object from a sequence or iterable\n",
      " |\n",
      " |  ----------------------------------------------------------------------\n",
      " |  Static methods defined here:\n",
      " |\n",
      " |  __new__(_cls, x, y) from namedtuple_Point2D.Point2D\n",
      " |      Create new instance of Point2D(x, y)\n",
      " |\n",
      " |  ----------------------------------------------------------------------\n",
      " |  Data descriptors defined here:\n",
      " |\n",
      " |  x\n",
      " |      Alias for field number 0\n",
      " |\n",
      " |  y\n",
      " |      Alias for field number 1\n",
      " |\n",
      " |  ----------------------------------------------------------------------\n",
      " |  Data and other attributes defined here:\n",
      " |\n",
      " |  __match_args__ = ('x', 'y')\n",
      " |\n",
      " |  _field_defaults = {}\n",
      " |\n",
      " |  _fields = ('x', 'y')\n",
      " |\n",
      " |  ----------------------------------------------------------------------\n",
      " |  Methods inherited from builtins.tuple:\n",
      " |\n",
      " |  __add__(self, value, /)\n",
      " |      Return self+value.\n",
      " |\n",
      " |  __contains__(self, key, /)\n",
      " |      Return bool(key in self).\n",
      " |\n",
      " |  __eq__(self, value, /)\n",
      " |      Return self==value.\n",
      " |\n",
      " |  __ge__(self, value, /)\n",
      " |      Return self>=value.\n",
      " |\n",
      " |  __getattribute__(self, name, /)\n",
      " |      Return getattr(self, name).\n",
      " |\n",
      " |  __getitem__(self, key, /)\n",
      " |      Return self[key].\n",
      " |\n",
      " |  __gt__(self, value, /)\n",
      " |      Return self>value.\n",
      " |\n",
      " |  __hash__(self, /)\n",
      " |      Return hash(self).\n",
      " |\n",
      " |  __iter__(self, /)\n",
      " |      Implement iter(self).\n",
      " |\n",
      " |  __le__(self, value, /)\n",
      " |      Return self<=value.\n",
      " |\n",
      " |  __len__(self, /)\n",
      " |      Return len(self).\n",
      " |\n",
      " |  __lt__(self, value, /)\n",
      " |      Return self<value.\n",
      " |\n",
      " |  __mul__(self, value, /)\n",
      " |      Return self*value.\n",
      " |\n",
      " |  __ne__(self, value, /)\n",
      " |      Return self!=value.\n",
      " |\n",
      " |  __rmul__(self, value, /)\n",
      " |      Return value*self.\n",
      " |\n",
      " |  count(self, value, /)\n",
      " |      Return number of occurrences of value.\n",
      " |\n",
      " |  index(self, value, start=0, stop=9223372036854775807, /)\n",
      " |      Return first index of value.\n",
      " |\n",
      " |      Raises ValueError if the value is not present.\n",
      " |\n",
      " |  ----------------------------------------------------------------------\n",
      " |  Class methods inherited from builtins.tuple:\n",
      " |\n",
      " |  __class_getitem__(...)\n",
      " |      See PEP 585\n",
      "\n"
     ]
    }
   ],
   "source": [
    "help(Point2D)"
   ]
  },
  {
   "cell_type": "code",
   "execution_count": 4,
   "id": "dd42da9a",
   "metadata": {},
   "outputs": [],
   "source": [
    "Vector2D = namedtuple(\"Vector2D\", \"x1 y1 x2 y2 origin_x origin_y\")"
   ]
  },
  {
   "cell_type": "code",
   "execution_count": 11,
   "id": "9a91db07",
   "metadata": {},
   "outputs": [
    {
     "data": {
      "text/plain": [
       "('x1', 'y1', 'x2', 'y2', 'origin_x', 'origin_y')"
      ]
     },
     "execution_count": 11,
     "metadata": {},
     "output_type": "execute_result"
    }
   ],
   "source": [
    "Vector2D._fields"
   ]
  },
  {
   "cell_type": "code",
   "execution_count": 8,
   "id": "fe6cd265",
   "metadata": {},
   "outputs": [],
   "source": [
    "vector2d_zero = Vector2D(0, 0, 0, 0, 0, 0)"
   ]
  },
  {
   "cell_type": "code",
   "execution_count": 12,
   "id": "9b11d841",
   "metadata": {},
   "outputs": [],
   "source": [
    "v1 = vector2d_zero._replace(x1=1, y1=1, x2=2, y2=2)"
   ]
  },
  {
   "cell_type": "code",
   "execution_count": 13,
   "id": "e41560b0",
   "metadata": {},
   "outputs": [
    {
     "data": {
      "text/plain": [
       "Vector2D(x1=1, y1=1, x2=2, y2=2, origin_x=0, origin_y=0)"
      ]
     },
     "execution_count": 13,
     "metadata": {},
     "output_type": "execute_result"
    }
   ],
   "source": [
    "v1"
   ]
  },
  {
   "cell_type": "code",
   "execution_count": 23,
   "id": "e6c1c31c",
   "metadata": {},
   "outputs": [],
   "source": [
    "def func(a, b=20, c=30):\n",
    "    print(a, b, c)"
   ]
  },
  {
   "cell_type": "code",
   "execution_count": 25,
   "id": "59801a35",
   "metadata": {},
   "outputs": [
    {
     "ename": "TypeError",
     "evalue": "func() missing 1 required positional argument: 'a'",
     "output_type": "error",
     "traceback": [
      "\u001b[31m---------------------------------------------------------------------------\u001b[39m",
      "\u001b[31mTypeError\u001b[39m                                 Traceback (most recent call last)",
      "\u001b[36mCell\u001b[39m\u001b[36m \u001b[39m\u001b[32mIn[25]\u001b[39m\u001b[32m, line 1\u001b[39m\n\u001b[32m----> \u001b[39m\u001b[32m1\u001b[39m \u001b[43mfunc\u001b[49m\u001b[43m(\u001b[49m\u001b[43m)\u001b[49m\n",
      "\u001b[31mTypeError\u001b[39m: func() missing 1 required positional argument: 'a'"
     ]
    }
   ],
   "source": [
    "func()"
   ]
  },
  {
   "cell_type": "code",
   "execution_count": 26,
   "id": "a644f7d8",
   "metadata": {},
   "outputs": [
    {
     "name": "stdout",
     "output_type": "stream",
     "text": [
      "10 20 30\n"
     ]
    }
   ],
   "source": [
    "func(10)"
   ]
  },
  {
   "cell_type": "code",
   "execution_count": 27,
   "id": "03ad1336",
   "metadata": {},
   "outputs": [
    {
     "data": {
      "text/plain": [
       "(20, 30)"
      ]
     },
     "execution_count": 27,
     "metadata": {},
     "output_type": "execute_result"
    }
   ],
   "source": [
    "func.__defaults__"
   ]
  },
  {
   "cell_type": "code",
   "execution_count": 28,
   "id": "ad280506",
   "metadata": {},
   "outputs": [],
   "source": [
    "func.__defaults__ = (10, 20, 30) "
   ]
  },
  {
   "cell_type": "code",
   "execution_count": 29,
   "id": "74a1221f",
   "metadata": {},
   "outputs": [
    {
     "name": "stdout",
     "output_type": "stream",
     "text": [
      "10 20 30\n"
     ]
    }
   ],
   "source": [
    "func()"
   ]
  },
  {
   "cell_type": "code",
   "execution_count": 30,
   "id": "aa83b90b",
   "metadata": {},
   "outputs": [
    {
     "data": {
      "text/plain": [
       "(10, 20, 30)"
      ]
     },
     "execution_count": 30,
     "metadata": {},
     "output_type": "execute_result"
    }
   ],
   "source": [
    "func.__defaults__"
   ]
  },
  {
   "cell_type": "code",
   "execution_count": 31,
   "id": "2c5771f8",
   "metadata": {},
   "outputs": [],
   "source": [
    "from random import randint, random"
   ]
  },
  {
   "cell_type": "code",
   "execution_count": 43,
   "id": "551490ef",
   "metadata": {},
   "outputs": [],
   "source": [
    "Color = namedtuple(\"Color\", \"R G B A\")"
   ]
  },
  {
   "cell_type": "code",
   "execution_count": 44,
   "id": "baf370c5",
   "metadata": {},
   "outputs": [],
   "source": [
    "def random_color():\n",
    "    r = randint(0, 255)\n",
    "    g = randint(0, 255)\n",
    "    b = randint(0, 255)\n",
    "    a = round(random(), 2)\n",
    "    return Color(r, g, b, a)"
   ]
  },
  {
   "cell_type": "code",
   "execution_count": 45,
   "id": "c0298e28",
   "metadata": {},
   "outputs": [],
   "source": [
    "color = random_color()"
   ]
  },
  {
   "cell_type": "code",
   "execution_count": 46,
   "id": "5310e83d",
   "metadata": {},
   "outputs": [
    {
     "data": {
      "text/plain": [
       "Color(R=87, G=51, B=188, A=0.75)"
      ]
     },
     "execution_count": 46,
     "metadata": {},
     "output_type": "execute_result"
    }
   ],
   "source": [
    "color"
   ]
  },
  {
   "cell_type": "code",
   "execution_count": 47,
   "id": "eaf44dbb",
   "metadata": {},
   "outputs": [
    {
     "data": {
      "text/plain": [
       "87"
      ]
     },
     "execution_count": 47,
     "metadata": {},
     "output_type": "execute_result"
    }
   ],
   "source": [
    "color.R"
   ]
  },
  {
   "cell_type": "code",
   "execution_count": null,
   "id": "296546c2",
   "metadata": {},
   "outputs": [],
   "source": [
    "data_dict = {\n",
    "    \"key1\": 100,\n",
    "    \"key2\": 200,\n",
    "    \"key3\": 300,\n",
    "}"
   ]
  },
  {
   "cell_type": "code",
   "execution_count": 4,
   "id": "79164a0e",
   "metadata": {},
   "outputs": [],
   "source": [
    "Data = namedtuple(\"Data\", data_dict.keys())"
   ]
  },
  {
   "cell_type": "code",
   "execution_count": 7,
   "id": "22e03b96",
   "metadata": {},
   "outputs": [],
   "source": [
    "d1 = Data(*data_dict.values())"
   ]
  },
  {
   "cell_type": "code",
   "execution_count": 8,
   "id": "c8273c20",
   "metadata": {},
   "outputs": [
    {
     "data": {
      "text/plain": [
       "Data(key1=100, key2=200, key3=300)"
      ]
     },
     "execution_count": 8,
     "metadata": {},
     "output_type": "execute_result"
    }
   ],
   "source": [
    "d1"
   ]
  },
  {
   "cell_type": "code",
   "execution_count": 11,
   "id": "a2e35a1a",
   "metadata": {},
   "outputs": [],
   "source": [
    "d2 = Data(**data_dict)"
   ]
  },
  {
   "cell_type": "code",
   "execution_count": 12,
   "id": "8ceded8d",
   "metadata": {},
   "outputs": [
    {
     "data": {
      "text/plain": [
       "Data(key1=100, key2=200, key3=300)"
      ]
     },
     "execution_count": 12,
     "metadata": {},
     "output_type": "execute_result"
    }
   ],
   "source": [
    "d2"
   ]
  },
  {
   "cell_type": "code",
   "execution_count": 16,
   "id": "cc0aaabf",
   "metadata": {},
   "outputs": [],
   "source": [
    "keys = set()\n",
    "keys.add(1)\n",
    "keys.add(2)\n",
    "keys.add(1)\n"
   ]
  },
  {
   "cell_type": "code",
   "execution_count": 17,
   "id": "851f7e6d",
   "metadata": {},
   "outputs": [
    {
     "data": {
      "text/plain": [
       "{1, 2}"
      ]
     },
     "execution_count": 17,
     "metadata": {},
     "output_type": "execute_result"
    }
   ],
   "source": [
    "keys"
   ]
  },
  {
   "cell_type": "code",
   "execution_count": 22,
   "id": "07002f3d",
   "metadata": {},
   "outputs": [],
   "source": [
    "data_list = [\n",
    "    {'k1': 1, 'k3': 2},\n",
    "    {'k3': 1},\n",
    "    {'k1': 1, 'k2': 4, 'k3': 12},\n",
    "    {'k4': 2, 'k2': 3}\n",
    "]"
   ]
  },
  {
   "cell_type": "code",
   "execution_count": 24,
   "id": "d2d5fae4",
   "metadata": {},
   "outputs": [],
   "source": [
    "keys = {key for dict_ in data_list for key in dict_.keys()} "
   ]
  },
  {
   "cell_type": "code",
   "execution_count": 25,
   "id": "efc431ea",
   "metadata": {},
   "outputs": [],
   "source": [
    "Struct = namedtuple('Struct', sorted(keys))"
   ]
  },
  {
   "cell_type": "code",
   "execution_count": 43,
   "id": "1e30be6f",
   "metadata": {},
   "outputs": [
    {
     "data": {
      "text/plain": [
       "type"
      ]
     },
     "execution_count": 43,
     "metadata": {},
     "output_type": "execute_result"
    }
   ],
   "source": [
    "type(Struct)"
   ]
  },
  {
   "cell_type": "code",
   "execution_count": 31,
   "id": "6f7a3db0",
   "metadata": {},
   "outputs": [],
   "source": [
    "Struct.__new__.__defaults__ = (None,) * len(Struct._fields)"
   ]
  },
  {
   "cell_type": "code",
   "execution_count": 32,
   "id": "797dc741",
   "metadata": {},
   "outputs": [],
   "source": [
    "struct_list = [Struct(**d) for d in data_list]"
   ]
  },
  {
   "cell_type": "code",
   "execution_count": 33,
   "id": "fd1b858d",
   "metadata": {},
   "outputs": [
    {
     "data": {
      "text/plain": [
       "[Struct(k1=1, k2=None, k3=2, k4=None),\n",
       " Struct(k1=None, k2=None, k3=1, k4=None),\n",
       " Struct(k1=1, k2=4, k3=12, k4=None),\n",
       " Struct(k1=None, k2=3, k3=None, k4=2)]"
      ]
     },
     "execution_count": 33,
     "metadata": {},
     "output_type": "execute_result"
    }
   ],
   "source": [
    "struct_list"
   ]
  },
  {
   "cell_type": "code",
   "execution_count": 44,
   "id": "57d2ed16",
   "metadata": {},
   "outputs": [],
   "source": [
    "from typing import Tuple, Iterable, Dict, Any, List"
   ]
  },
  {
   "cell_type": "code",
   "execution_count": 48,
   "id": "d4389828",
   "metadata": {},
   "outputs": [],
   "source": [
    "def dicts_to_namedtuples(dict_list: Iterable[Dict[Any, Any]], rename_: bool = True) -> List[Tuple]:\n",
    "    keys = {key for dict_ in dict_list for key in dict_.keys()} \n",
    "    Struct = namedtuple('Struct', sorted(keys), rename=rename_)\n",
    "    Struct.__new__.__defaults__ = (None,) * len(Struct._fields)\n",
    "    struct_list = [Struct(**d) for d in dict_list]\n",
    "    return struct_list"
   ]
  },
  {
   "cell_type": "code",
   "execution_count": 49,
   "id": "859eeeee",
   "metadata": {},
   "outputs": [
    {
     "data": {
      "text/plain": [
       "[Struct(k1=1, k2=None, k3=2, k4=None),\n",
       " Struct(k1=None, k2=None, k3=1, k4=None),\n",
       " Struct(k1=1, k2=4, k3=12, k4=None),\n",
       " Struct(k1=None, k2=3, k3=None, k4=2)]"
      ]
     },
     "execution_count": 49,
     "metadata": {},
     "output_type": "execute_result"
    }
   ],
   "source": [
    "dicts_to_namedtuples(data_list)"
   ]
  },
  {
   "cell_type": "code",
   "execution_count": null,
   "id": "650b7e9a",
   "metadata": {},
   "outputs": [],
   "source": []
  }
 ],
 "metadata": {
  "kernelspec": {
   "display_name": "Python 3",
   "language": "python",
   "name": "python3"
  },
  "language_info": {
   "codemirror_mode": {
    "name": "ipython",
    "version": 3
   },
   "file_extension": ".py",
   "mimetype": "text/x-python",
   "name": "python",
   "nbconvert_exporter": "python",
   "pygments_lexer": "ipython3",
   "version": "3.12.11"
  }
 },
 "nbformat": 4,
 "nbformat_minor": 5
}
