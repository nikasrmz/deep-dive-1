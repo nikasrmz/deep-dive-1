{
 "cells": [
  {
   "cell_type": "code",
   "execution_count": 2,
   "id": "0c1495a7",
   "metadata": {},
   "outputs": [],
   "source": [
    "from pydecora import timeit"
   ]
  },
  {
   "cell_type": "code",
   "execution_count": 4,
   "id": "0fcf9a40",
   "metadata": {},
   "outputs": [],
   "source": [
    "import sys"
   ]
  },
  {
   "cell_type": "code",
   "execution_count": 5,
   "id": "e690f988",
   "metadata": {},
   "outputs": [
    {
     "data": {
      "text/plain": [
       "0.005"
      ]
     },
     "execution_count": 5,
     "metadata": {},
     "output_type": "execute_result"
    }
   ],
   "source": [
    "sys.getswitchinterval()"
   ]
  },
  {
   "cell_type": "code",
   "execution_count": 6,
   "id": "980049cf",
   "metadata": {},
   "outputs": [],
   "source": [
    "from concurrent.futures import ThreadPoolExecutor, ProcessPoolExecutor"
   ]
  },
  {
   "cell_type": "code",
   "execution_count": 3,
   "id": "7411fa3d",
   "metadata": {},
   "outputs": [],
   "source": [
    "import itertools\n",
    "import time\n",
    "from threading import Thread, Event"
   ]
  },
  {
   "cell_type": "code",
   "execution_count": 4,
   "id": "eac37c70",
   "metadata": {},
   "outputs": [],
   "source": [
    "import threading"
   ]
  },
  {
   "cell_type": "code",
   "execution_count": 5,
   "id": "7c488e62",
   "metadata": {},
   "outputs": [],
   "source": [
    "from multiprocessing import synchronize\n"
   ]
  },
  {
   "cell_type": "code",
   "execution_count": 6,
   "id": "64d72147",
   "metadata": {},
   "outputs": [],
   "source": [
    "def spin(msg: str, done: threading.Event | synchronize.Event) -> None:\n",
    "    for char in itertools.cycle(r'\\|/-'):\n",
    "        status = f'\\r{char} {msg}'\n",
    "        print(status, end='', flush=True)\n",
    "        if done.wait(.1):\n",
    "            break\n",
    "    blanks = ' ' * len(status)\n",
    "    print(f'\\r{blanks}\\r', end='')"
   ]
  },
  {
   "cell_type": "code",
   "execution_count": 12,
   "id": "eb70dd6f",
   "metadata": {},
   "outputs": [],
   "source": [
    "\n",
    "def slow() -> int:\n",
    "    time.sleep(3)\n",
    "    return 42\n"
   ]
  },
  {
   "cell_type": "markdown",
   "id": "cc71cd21",
   "metadata": {},
   "source": [
    "## Spinner with threads"
   ]
  },
  {
   "cell_type": "markdown",
   "id": "03eb95aa",
   "metadata": {},
   "source": [
    "### Pseudocode:\n",
    "```py\n",
    "# At main thread\n",
    "event1 is created \n",
    "with new_thread:\n",
    "    new_thread is used to call spin(msg, event1)\n",
    "\n",
    "slow() # stopping current thread for 3 seconds\n",
    "event1.set()\n",
    "```"
   ]
  },
  {
   "cell_type": "code",
   "execution_count": 8,
   "id": "f75ea50c",
   "metadata": {},
   "outputs": [],
   "source": [
    "def supervisor_thr():\n",
    "    done = Event()\n",
    "    thread2 = Thread(target=spin, args=(\"Loading...\", done))\n",
    "    print(f'thread2 object: {thread2}')\n",
    "    thread2.start()\n",
    "    result = slow()\n",
    "    done.set()\n",
    "    thread2.join()\n",
    "    print(f\"Answer: {result}\")"
   ]
  },
  {
   "cell_type": "code",
   "execution_count": 11,
   "id": "f8783ba3",
   "metadata": {},
   "outputs": [
    {
     "name": "stdout",
     "output_type": "stream",
     "text": [
      "thread2 object: <Thread(Thread-5 (spin), initial)>\n",
      "Answer: 42   \n"
     ]
    }
   ],
   "source": [
    "supervisor_thr()"
   ]
  },
  {
   "cell_type": "markdown",
   "id": "27df22db",
   "metadata": {},
   "source": [
    "## Spinner with processes"
   ]
  },
  {
   "cell_type": "markdown",
   "id": "8e681a9c",
   "metadata": {},
   "source": [
    "uses same `spin()` and `slow()` functions"
   ]
  },
  {
   "cell_type": "code",
   "execution_count": 36,
   "id": "6fbd0dd3",
   "metadata": {},
   "outputs": [],
   "source": [
    "import multiprocessing"
   ]
  },
  {
   "cell_type": "code",
   "execution_count": 28,
   "id": "9febaa24",
   "metadata": {},
   "outputs": [],
   "source": [
    "from multiprocessing import Process, Event, synchronize"
   ]
  },
  {
   "cell_type": "code",
   "execution_count": 42,
   "id": "89ee33e7",
   "metadata": {},
   "outputs": [],
   "source": [
    "def supervisor_proc():\n",
    "    done = multiprocessing.Event()\n",
    "    process2 = Process(target=spin, args=(\"Loading...\", done))\n",
    "    print(f'process2 object: {process2}')\n",
    "    process2.start()\n",
    "    result = slow()\n",
    "    done.set()\n",
    "    process2.join()\n",
    "    print(f\"Answer: {result}\")"
   ]
  },
  {
   "cell_type": "code",
   "execution_count": 43,
   "id": "cd3b9997",
   "metadata": {},
   "outputs": [
    {
     "name": "stdout",
     "output_type": "stream",
     "text": [
      "process2 object: <Process name='Process-3' parent=58568 initial>\n",
      "Answer: 42\n"
     ]
    }
   ],
   "source": [
    "supervisor_proc()"
   ]
  },
  {
   "cell_type": "markdown",
   "id": "35f965e3",
   "metadata": {},
   "source": [
    "## Spinner with coroutines"
   ]
  },
  {
   "cell_type": "markdown",
   "id": "b19f9405",
   "metadata": {},
   "source": [
    "in `.py` file with the same name, since jupyter notebook already has event-loop running."
   ]
  },
  {
   "cell_type": "code",
   "execution_count": null,
   "id": "62def82a",
   "metadata": {},
   "outputs": [],
   "source": []
  }
 ],
 "metadata": {
  "kernelspec": {
   "display_name": "dev_env",
   "language": "python",
   "name": "python3"
  },
  "language_info": {
   "codemirror_mode": {
    "name": "ipython",
    "version": 3
   },
   "file_extension": ".py",
   "mimetype": "text/x-python",
   "name": "python",
   "nbconvert_exporter": "python",
   "pygments_lexer": "ipython3",
   "version": "3.10.18"
  }
 },
 "nbformat": 4,
 "nbformat_minor": 5
}
